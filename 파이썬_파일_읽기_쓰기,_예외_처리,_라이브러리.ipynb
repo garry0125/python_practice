{
  "nbformat": 4,
  "nbformat_minor": 0,
  "metadata": {
    "colab": {
      "name": "파이썬_파일 읽기 쓰기, 예외 처리, 라이브러리",
      "provenance": [],
      "collapsed_sections": [],
      "toc_visible": true
    },
    "kernelspec": {
      "name": "python3",
      "display_name": "Python 3"
    },
    "language_info": {
      "name": "python"
    },
    "accelerator": "GPU"
  },
  "cells": [
    {
      "cell_type": "markdown",
      "source": [
        "# **파일 읽기/쓰기**\n",
        "open\n",
        "\n",
        "파이썬에서 파일을 읽고 쓰는데는 open이라는 내장 함수를 사용한다. open은 파일 경로와 파일 열기 모드를 인자로 입력받아 파일 객체를 반환한다.\n",
        "\n",
        "파일 객체 = open(파일 경로, 파일 열기 모드)\n",
        "\n",
        "파일 생성하기\n",
        "\n",
        "쓰기 모드로 존재하지 않는 파일을 열면 새 파일을 생성한다"
      ],
      "metadata": {
        "id": "W6uNDtWu8m0w"
      }
    },
    {
      "cell_type": "code",
      "execution_count": 1,
      "metadata": {
        "id": "0Rr_xToBYwv0"
      },
      "outputs": [],
      "source": [
        "f=open(\"newfile.txt\",\"w\")"
      ]
    },
    {
      "cell_type": "code",
      "source": [
        "f.close()"
      ],
      "metadata": {
        "id": "i8FO8zUN9Drf"
      },
      "execution_count": 2,
      "outputs": []
    },
    {
      "cell_type": "markdown",
      "source": [
        "위 에시에서 f.close()는 열려 있는 파일 객체를 닫아 주는 역할을 한다. 프로그램이 종료될 때 파이썬 프로그램은 열려있는 파일들을 자동으로 닫는다. 하지만 컴퓨터에는 열 수 있는 파일 개수에 제한이 있기 때문에 직접 파일을 닫는 좋은 습관을 들이자\n",
        "\n",
        "파일이 생성되었는지 확인하기 위해 현재 이 노트북이 존재하는 폴더에서 파일 목록을 확인해보자.\n",
        "\n",
        "이때 ls라는 유닉스 명령어를 사용한다. 이는 파이썬의 기능이 아니라 시스템 명령어이다. colab 노트북에서는 !를 앞에 붙여서 시스템 명령어를 사용할 수 있다."
      ],
      "metadata": {
        "id": "Qt0_K_iw9Ndn"
      }
    },
    {
      "cell_type": "code",
      "source": [
        "!ls"
      ],
      "metadata": {
        "colab": {
          "base_uri": "https://localhost:8080/"
        },
        "id": "M5cnEdyL9MV4",
        "outputId": "98a45c7b-4936-467f-c0a8-e896eb043c7b"
      },
      "execution_count": 3,
      "outputs": [
        {
          "output_type": "stream",
          "name": "stdout",
          "text": [
            "newfile.txt  sample_data\n"
          ]
        }
      ]
    },
    {
      "cell_type": "markdown",
      "source": [
        "## **파일에 내용적기**\n",
        "파일에 내용을 쓸 때는 .write 메서드를 이용한다. 이때 줄바꿈까지 직접 적어주어야 한다는 점을 잊지말자."
      ],
      "metadata": {
        "id": "GyiKP76N9oWP"
      }
    },
    {
      "cell_type": "code",
      "source": [
        "f=open(\"newfile.txt\",\"w\")\n",
        "for i in range(10):\n",
        "  data=f\"{i}번째 줄입니다.\\n\"\n",
        "  f.write(data)\n",
        "\n",
        "f.close()"
      ],
      "metadata": {
        "id": "fgLKBAHw9mWw"
      },
      "execution_count": 5,
      "outputs": []
    },
    {
      "cell_type": "code",
      "source": [
        "!cat newfile.txt"
      ],
      "metadata": {
        "colab": {
          "base_uri": "https://localhost:8080/"
        },
        "id": "_MrxI-iP9_xA",
        "outputId": "bb5889d5-614d-46f0-f86d-cc7dcc37208a"
      },
      "execution_count": 6,
      "outputs": [
        {
          "output_type": "stream",
          "name": "stdout",
          "text": [
            "0번째 줄입니다.\n",
            "1번째 줄입니다.\n",
            "2번째 줄입니다.\n",
            "3번째 줄입니다.\n",
            "4번째 줄입니다.\n",
            "5번째 줄입니다.\n",
            "6번째 줄입니다.\n",
            "7번째 줄입니다.\n",
            "8번째 줄입니다.\n",
            "9번째 줄입니다.\n"
          ]
        }
      ]
    },
    {
      "cell_type": "markdown",
      "source": [
        "## **파일 읽기**\n",
        "파일을 읽는 데는 여러 메서드들이 있다.\n",
        "\n",
        ".read(): 파일 내용 전체를 한번에 읽는다.\n",
        "\n",
        ".readline(): 파일을 한 줄 읽는다. 한번 더 실행하면 다음 줄을 읽는다.\n",
        "\n",
        ".readlines(): 파일 내용 전체를 읽어서 각각의 줄을 요소로 갖는 리스트로 돌려준다"
      ],
      "metadata": {
        "id": "WDrpiebV-Wx4"
      }
    },
    {
      "cell_type": "code",
      "source": [
        "f=open(\"newfile.txt\",\"r\")\n",
        "print(f.readline())\n"
      ],
      "metadata": {
        "colab": {
          "base_uri": "https://localhost:8080/"
        },
        "id": "vsmYbCNr-TJm",
        "outputId": "7e1881f8-584e-4c00-d44c-eb574e54f13e"
      },
      "execution_count": 7,
      "outputs": [
        {
          "output_type": "stream",
          "name": "stdout",
          "text": [
            "0번째 줄입니다.\n",
            "\n"
          ]
        }
      ]
    },
    {
      "cell_type": "code",
      "source": [
        "f.close()"
      ],
      "metadata": {
        "id": "H_xzyk05-14A"
      },
      "execution_count": 8,
      "outputs": []
    },
    {
      "cell_type": "code",
      "source": [
        "f=open(\"newfile.txt\")\n",
        "for line in f:\n",
        "  print(line)\n",
        "f.close()"
      ],
      "metadata": {
        "colab": {
          "base_uri": "https://localhost:8080/"
        },
        "id": "DCJiRtGm-4en",
        "outputId": "28eefb7e-cbd3-40b5-cfba-b4758ab886ae"
      },
      "execution_count": 9,
      "outputs": [
        {
          "output_type": "stream",
          "name": "stdout",
          "text": [
            "0번째 줄입니다.\n",
            "\n",
            "1번째 줄입니다.\n",
            "\n",
            "2번째 줄입니다.\n",
            "\n",
            "3번째 줄입니다.\n",
            "\n",
            "4번째 줄입니다.\n",
            "\n",
            "5번째 줄입니다.\n",
            "\n",
            "6번째 줄입니다.\n",
            "\n",
            "7번째 줄입니다.\n",
            "\n",
            "8번째 줄입니다.\n",
            "\n",
            "9번째 줄입니다.\n",
            "\n"
          ]
        }
      ]
    },
    {
      "cell_type": "markdown",
      "source": [
        "## **with문**\n",
        "파이썬에는 with이라는 독특한 예약어(keyword)가 있다ㅑ. 컨텍스트 메니저(context manager)라고도 불리는 with은 파일과 같은 리소스(resource)를 관리하는데 유용하다. 한마디로 쉽게 말해서, with은 파일을 닫는 것을 깜빡하는 것을 방지해준다"
      ],
      "metadata": {
        "id": "Ls7SPeVN_a7m"
      }
    },
    {
      "cell_type": "code",
      "source": [
        "f=open(\"newfile.txt\")\n",
        "for line in f:\n",
        "  print(line)\n",
        "f.close"
      ],
      "metadata": {
        "colab": {
          "base_uri": "https://localhost:8080/"
        },
        "id": "ED18OPbU_V4_",
        "outputId": "37772320-3e0b-43a2-d37f-fab3fce5154d"
      },
      "execution_count": 10,
      "outputs": [
        {
          "output_type": "stream",
          "name": "stdout",
          "text": [
            "0번째 줄입니다.\n",
            "\n",
            "1번째 줄입니다.\n",
            "\n",
            "2번째 줄입니다.\n",
            "\n",
            "3번째 줄입니다.\n",
            "\n",
            "4번째 줄입니다.\n",
            "\n",
            "5번째 줄입니다.\n",
            "\n",
            "6번째 줄입니다.\n",
            "\n",
            "7번째 줄입니다.\n",
            "\n",
            "8번째 줄입니다.\n",
            "\n",
            "9번째 줄입니다.\n",
            "\n"
          ]
        },
        {
          "output_type": "execute_result",
          "data": {
            "text/plain": [
              "<function TextIOWrapper.close>"
            ]
          },
          "metadata": {},
          "execution_count": 10
        }
      ]
    },
    {
      "cell_type": "code",
      "source": [
        "with open(\"newfile.txt\") as f:\n",
        "  for line in f:\n",
        "    print(line)"
      ],
      "metadata": {
        "colab": {
          "base_uri": "https://localhost:8080/"
        },
        "id": "CslgDY7L_31w",
        "outputId": "03a0e850-1e01-4364-a4b9-ab134e064055"
      },
      "execution_count": 11,
      "outputs": [
        {
          "output_type": "stream",
          "name": "stdout",
          "text": [
            "0번째 줄입니다.\n",
            "\n",
            "1번째 줄입니다.\n",
            "\n",
            "2번째 줄입니다.\n",
            "\n",
            "3번째 줄입니다.\n",
            "\n",
            "4번째 줄입니다.\n",
            "\n",
            "5번째 줄입니다.\n",
            "\n",
            "6번째 줄입니다.\n",
            "\n",
            "7번째 줄입니다.\n",
            "\n",
            "8번째 줄입니다.\n",
            "\n",
            "9번째 줄입니다.\n",
            "\n"
          ]
        }
      ]
    },
    {
      "cell_type": "markdown",
      "source": [
        "파이썬은 with블록을 빠져 나갈 때 자동으로 파일을 닫는다"
      ],
      "metadata": {
        "id": "vp_xkExdAAGP"
      }
    },
    {
      "cell_type": "markdown",
      "source": [
        "# **예외 처리**\n",
        "예외는 어떨 때 생길까\n",
        "\n",
        "다음은 예외가 생기는 다양한 예시이다."
      ],
      "metadata": {
        "id": "7i-e62FDAFLW"
      }
    },
    {
      "cell_type": "code",
      "source": [
        "#없는 파일을 열려고 했을 경우\n",
        "\n",
        "open(\"non-exist-file.txt\")"
      ],
      "metadata": {
        "colab": {
          "base_uri": "https://localhost:8080/",
          "height": 211
        },
        "id": "yxSlXDW4_98f",
        "outputId": "e6e97e14-c429-4427-a358-decfc570b68a"
      },
      "execution_count": 12,
      "outputs": [
        {
          "output_type": "error",
          "ename": "FileNotFoundError",
          "evalue": "ignored",
          "traceback": [
            "\u001b[0;31m---------------------------------------------------------------------------\u001b[0m",
            "\u001b[0;31mFileNotFoundError\u001b[0m                         Traceback (most recent call last)",
            "\u001b[0;32m<ipython-input-12-7577b129c7e7>\u001b[0m in \u001b[0;36m<module>\u001b[0;34m()\u001b[0m\n\u001b[1;32m      1\u001b[0m \u001b[0;31m#없는 파일을 열려고 했을 경우\u001b[0m\u001b[0;34m\u001b[0m\u001b[0;34m\u001b[0m\u001b[0;34m\u001b[0m\u001b[0m\n\u001b[1;32m      2\u001b[0m \u001b[0;34m\u001b[0m\u001b[0m\n\u001b[0;32m----> 3\u001b[0;31m \u001b[0mopen\u001b[0m\u001b[0;34m(\u001b[0m\u001b[0;34m\"non-exist-file.txt\"\u001b[0m\u001b[0;34m)\u001b[0m\u001b[0;34m\u001b[0m\u001b[0;34m\u001b[0m\u001b[0m\n\u001b[0m",
            "\u001b[0;31mFileNotFoundError\u001b[0m: [Errno 2] No such file or directory: 'non-exist-file.txt'"
          ]
        }
      ]
    },
    {
      "cell_type": "code",
      "source": [
        "# 숫자를 0으로 나누려고 할 경우\n",
        "\n",
        "a=10\n",
        "b=a/10"
      ],
      "metadata": {
        "id": "5xmfqxrlARY2"
      },
      "execution_count": 13,
      "outputs": []
    },
    {
      "cell_type": "code",
      "source": [
        "# 존재하지 않는 인덱스로 인덱싱을 하려고 하는 경우\n",
        "\n",
        "a=[1,2,3]\n",
        "print(a[3])\n",
        "\n",
        "dictionary={'a':1,'b':2}\n",
        "dictionary['c']"
      ],
      "metadata": {
        "colab": {
          "base_uri": "https://localhost:8080/",
          "height": 248
        },
        "id": "SqfQVUHKAZjG",
        "outputId": "2e5817c5-cfcd-44c7-a760-47276ab8e7f2"
      },
      "execution_count": 14,
      "outputs": [
        {
          "output_type": "error",
          "ename": "IndexError",
          "evalue": "ignored",
          "traceback": [
            "\u001b[0;31m---------------------------------------------------------------------------\u001b[0m",
            "\u001b[0;31mIndexError\u001b[0m                                Traceback (most recent call last)",
            "\u001b[0;32m<ipython-input-14-6eb3c5d0146b>\u001b[0m in \u001b[0;36m<module>\u001b[0;34m()\u001b[0m\n\u001b[1;32m      2\u001b[0m \u001b[0;34m\u001b[0m\u001b[0m\n\u001b[1;32m      3\u001b[0m \u001b[0ma\u001b[0m\u001b[0;34m=\u001b[0m\u001b[0;34m[\u001b[0m\u001b[0;36m1\u001b[0m\u001b[0;34m,\u001b[0m\u001b[0;36m2\u001b[0m\u001b[0;34m,\u001b[0m\u001b[0;36m3\u001b[0m\u001b[0;34m]\u001b[0m\u001b[0;34m\u001b[0m\u001b[0;34m\u001b[0m\u001b[0m\n\u001b[0;32m----> 4\u001b[0;31m \u001b[0mprint\u001b[0m\u001b[0;34m(\u001b[0m\u001b[0ma\u001b[0m\u001b[0;34m[\u001b[0m\u001b[0;36m3\u001b[0m\u001b[0;34m]\u001b[0m\u001b[0;34m)\u001b[0m\u001b[0;34m\u001b[0m\u001b[0;34m\u001b[0m\u001b[0m\n\u001b[0m\u001b[1;32m      5\u001b[0m \u001b[0;34m\u001b[0m\u001b[0m\n\u001b[1;32m      6\u001b[0m \u001b[0mdictionary\u001b[0m\u001b[0;34m=\u001b[0m\u001b[0;34m{\u001b[0m\u001b[0;34m'a'\u001b[0m\u001b[0;34m:\u001b[0m\u001b[0;36m1\u001b[0m\u001b[0;34m,\u001b[0m\u001b[0;34m'b'\u001b[0m\u001b[0;34m:\u001b[0m\u001b[0;36m2\u001b[0m\u001b[0;34m}\u001b[0m\u001b[0;34m\u001b[0m\u001b[0;34m\u001b[0m\u001b[0m\n",
            "\u001b[0;31mIndexError\u001b[0m: list index out of range"
          ]
        }
      ]
    },
    {
      "cell_type": "markdown",
      "source": [
        "예외가 발생했을 때 대신 다른 코드를 실행하는 방법을 알아보자"
      ],
      "metadata": {
        "id": "nsuGGN9_Ax8J"
      }
    },
    {
      "cell_type": "code",
      "source": [
        "#try:\n",
        "#  ...\n",
        "#except [오류 종류]:\n",
        "#  ..."
      ],
      "metadata": {
        "id": "OU4KYtmrArQW"
      },
      "execution_count": null,
      "outputs": []
    },
    {
      "cell_type": "markdown",
      "source": [
        "파이썬은 try블록의 코드를 먼저 실행하고, 만약 예외가 발생할 경우 except블록의 코드를 실행한다. 예외가 발생하지 않으면 except 블록을 실행하지 않는다.\n",
        "\n",
        "except뒤의 오류 종류를 명시하면 해당 오류가 발생할 때만 except문을 실행한다. 생략하는 경우 모든 종류의 오류를 잡는다."
      ],
      "metadata": {
        "id": "vkCLX0ZGA9je"
      }
    },
    {
      "cell_type": "code",
      "source": [
        "try:\n",
        "  10/0\n",
        "except ZeroDivisionError:\n",
        "  print(\"0으로 나눌 수 없습니다.\")"
      ],
      "metadata": {
        "colab": {
          "base_uri": "https://localhost:8080/"
        },
        "id": "Vptjam8UBOj9",
        "outputId": "4c2ef38d-a3c2-45b9-a6e2-a6d9bb58fc72"
      },
      "execution_count": 15,
      "outputs": [
        {
          "output_type": "stream",
          "name": "stdout",
          "text": [
            "0으로 나눌 수 없습니다.\n"
          ]
        }
      ]
    },
    {
      "cell_type": "markdown",
      "source": [
        "발생한 오류에 대해 더 많은 정보를 알고 싶다면 오류에 대한 정보가 담긴 객체를 변수에 담아서 접근할 수 있다."
      ],
      "metadata": {
        "id": "_LKOgwgaBXtL"
      }
    },
    {
      "cell_type": "code",
      "source": [
        "try:\n",
        "  10/0\n",
        "except ZeroDivisionError as e:\n",
        "  print(e)"
      ],
      "metadata": {
        "colab": {
          "base_uri": "https://localhost:8080/"
        },
        "id": "1VbyAyk1BhG-",
        "outputId": "47dbab49-44d0-4a01-adf0-b2cd724140c6"
      },
      "execution_count": 16,
      "outputs": [
        {
          "output_type": "stream",
          "name": "stdout",
          "text": [
            "division by zero\n"
          ]
        }
      ]
    },
    {
      "cell_type": "markdown",
      "source": [
        "## **finally**\n",
        "리소스(파일 등)를 사용하고 있는 도중에 에러가 나서 실행이 멈추게 되면 리소스 점유를 해제(close)하지 못할 수도 있다. 이를 방지하기 위해 파이썬에는 finally라는 구문이 있다. finally는 try문이 성공하든 실패하든 항상 실행된다. 보통 리소스를 해제(close)해야 할 때 사용한다\n",
        "\n",
        "try안에서 여러개의 오류가 발생할 수 있는 경우 각기 다르게 처리할 수 있다."
      ],
      "metadata": {
        "id": "ta_qFDSTB6A8"
      }
    },
    {
      "cell_type": "code",
      "source": [
        "#try:\n",
        "# ...\n",
        "#except 오류 종류1:\n",
        "# ...\n",
        "#except 오류 종류2:\n",
        "#  ..."
      ],
      "metadata": {
        "id": "v53osoYnBm-E"
      },
      "execution_count": null,
      "outputs": []
    },
    {
      "cell_type": "markdown",
      "source": [
        "## **try... else...**\n",
        "오류가 발생하지 않을 경우에만 특정 코드를 실행하는 방법도 있다. if문에서 보았던 else문을 try에도 쓸 수 있다."
      ],
      "metadata": {
        "id": "gsiSCrpMCvu1"
      }
    },
    {
      "cell_type": "code",
      "source": [
        "a=[1,2,3]\n",
        "try:\n",
        "  print(a[3])\n",
        "except:\n",
        "  print(\"에러가 발생했습니다.\")\n",
        "else:\n",
        "  print(\"정상적으로 작동했습니다.\")"
      ],
      "metadata": {
        "colab": {
          "base_uri": "https://localhost:8080/"
        },
        "id": "WxpZo947Cuh-",
        "outputId": "b386012c-b4a1-4333-9fbb-da3d6ef89e4d"
      },
      "execution_count": 17,
      "outputs": [
        {
          "output_type": "stream",
          "name": "stdout",
          "text": [
            "에러가 발생했습니다.\n"
          ]
        }
      ]
    },
    {
      "cell_type": "markdown",
      "source": [
        "## **오류 일부러 만들기**\n",
        "때때로 프로그래밍을 할 때 오류를 일부러 발생시키는 경우가 있다. 잘못된 실행을 미리 막아야 하거나, 테스트를 할 때 에러를 발생시키는 경우가 있다.\n",
        "파이썬에서는 raise 명령어를 사용해 오류를 일부러 발생시킬 수 있다."
      ],
      "metadata": {
        "id": "B13iuDebDm4l"
      }
    },
    {
      "cell_type": "code",
      "source": [
        "def size_of_triange(base,height):\n",
        "  if base<0:\n",
        "    raise ValueError(\"base cannot be less than 0\")\n",
        "  if height<0:\n",
        "    raise ValueError(\"height cannot be less than 0\")\n",
        "\n",
        "  return base*height/2"
      ],
      "metadata": {
        "id": "mUK4vTmFDjD0"
      },
      "execution_count": 18,
      "outputs": []
    },
    {
      "cell_type": "code",
      "source": [
        "size_of_triange(4,-3)"
      ],
      "metadata": {
        "colab": {
          "base_uri": "https://localhost:8080/",
          "height": 303
        },
        "id": "I1RA0dvREjJm",
        "outputId": "2d32ddee-79be-43b9-e992-baa772147846"
      },
      "execution_count": 19,
      "outputs": [
        {
          "output_type": "error",
          "ename": "ValueError",
          "evalue": "ignored",
          "traceback": [
            "\u001b[0;31m---------------------------------------------------------------------------\u001b[0m",
            "\u001b[0;31mValueError\u001b[0m                                Traceback (most recent call last)",
            "\u001b[0;32m<ipython-input-19-74d777fce869>\u001b[0m in \u001b[0;36m<module>\u001b[0;34m()\u001b[0m\n\u001b[0;32m----> 1\u001b[0;31m \u001b[0msize_of_triange\u001b[0m\u001b[0;34m(\u001b[0m\u001b[0;36m4\u001b[0m\u001b[0;34m,\u001b[0m\u001b[0;34m-\u001b[0m\u001b[0;36m3\u001b[0m\u001b[0;34m)\u001b[0m\u001b[0;34m\u001b[0m\u001b[0;34m\u001b[0m\u001b[0m\n\u001b[0m",
            "\u001b[0;32m<ipython-input-18-ad92bd8e07e1>\u001b[0m in \u001b[0;36msize_of_triange\u001b[0;34m(base, height)\u001b[0m\n\u001b[1;32m      3\u001b[0m     \u001b[0;32mraise\u001b[0m \u001b[0mValueError\u001b[0m\u001b[0;34m(\u001b[0m\u001b[0;34m\"base cannot be less than 0\"\u001b[0m\u001b[0;34m)\u001b[0m\u001b[0;34m\u001b[0m\u001b[0;34m\u001b[0m\u001b[0m\n\u001b[1;32m      4\u001b[0m   \u001b[0;32mif\u001b[0m \u001b[0mheight\u001b[0m\u001b[0;34m<\u001b[0m\u001b[0;36m0\u001b[0m\u001b[0;34m:\u001b[0m\u001b[0;34m\u001b[0m\u001b[0;34m\u001b[0m\u001b[0m\n\u001b[0;32m----> 5\u001b[0;31m     \u001b[0;32mraise\u001b[0m \u001b[0mValueError\u001b[0m\u001b[0;34m(\u001b[0m\u001b[0;34m\"height cannot be less than 0\"\u001b[0m\u001b[0;34m)\u001b[0m\u001b[0;34m\u001b[0m\u001b[0;34m\u001b[0m\u001b[0m\n\u001b[0m\u001b[1;32m      6\u001b[0m \u001b[0;34m\u001b[0m\u001b[0m\n\u001b[1;32m      7\u001b[0m   \u001b[0;32mreturn\u001b[0m \u001b[0mbase\u001b[0m\u001b[0;34m*\u001b[0m\u001b[0mheight\u001b[0m\u001b[0;34m/\u001b[0m\u001b[0;36m2\u001b[0m\u001b[0;34m\u001b[0m\u001b[0;34m\u001b[0m\u001b[0m\n",
            "\u001b[0;31mValueError\u001b[0m: height cannot be less than 0"
          ]
        }
      ]
    },
    {
      "cell_type": "markdown",
      "source": [
        "## **데이터 처리에서 예외 처리**\n",
        "데이터 처리에서는 결측값(missing data) 등 때문에 예외가 자주 발생한다. 이때 예외처리를 사용할 수 있다."
      ],
      "metadata": {
        "id": "Pm5G-TXpEo7l"
      }
    },
    {
      "cell_type": "code",
      "source": [
        "mylist=[1,2,3,None,5,6]\n",
        "total=0\n",
        "for i in mylist:\n",
        "  try:\n",
        "    total+=i\n",
        "  except:\n",
        "    pass\n",
        "total"
      ],
      "metadata": {
        "colab": {
          "base_uri": "https://localhost:8080/"
        },
        "id": "6zwFZUmdEmll",
        "outputId": "2bcf1e04-caa0-47bf-ea21-74f6c2aa5a96"
      },
      "execution_count": 20,
      "outputs": [
        {
          "output_type": "execute_result",
          "data": {
            "text/plain": [
              "17"
            ]
          },
          "metadata": {},
          "execution_count": 20
        }
      ]
    },
    {
      "cell_type": "markdown",
      "source": [
        "# **라이브러리**\n",
        "표준 라이브러리\n",
        "\n",
        "데이터 분석을 할 때 자주 사용하는 표준 라이브러리를 나열해 보면 다음과 같다.\n",
        "\n",
        "\n",
        "*   math\n",
        "*   random\n",
        "\n",
        "*   collections\n",
        "\n",
        "*   pickle\n",
        "*   sys\n",
        "\n",
        "\n",
        "*   os\n",
        "\n",
        "\n"
      ],
      "metadata": {
        "id": "Qz6N0xdTFWc0"
      }
    },
    {
      "cell_type": "markdown",
      "source": [
        "## **math**\n",
        "\n",
        "\n",
        "*   math.ceil(): 주어진 숫자보다 같거나 크면서 가장 작은 정수를 반환한다.\n",
        "*   math.floor(): 주어진 숫자보다 같거나 작으면서 가장 큰 정수를 반환한다.\n",
        "\n",
        "*   math.nan: nan은 \"Not a Number\"의 약자로 숫자가 아닌 대상을 숫자 데이터 형식으로 변환할 때 생긴다. 데이터를 다룰 때 흔히 볼 수 있다.\n",
        "\n",
        "이외에 로그, 삼각 함수 등 수학과 관련된 다양한 기능을 갖고 있다.\n",
        "\n",
        "**라이브러리 불러오기**\n",
        "\n",
        "\n",
        "*   import...: 라이브러리 불러오기\n",
        "\n",
        "*   from...import...: 라이브러리 내에서 특정 모듈, 함수, 변수만 불러오기\n",
        "*   import...as...: 라이브러리를 불러오되 다른 이름으로 부르기\n",
        "\n",
        "\n",
        "*   from...import*: 라이브러리 내에 모든 모듈, 함수, 변수를 불러오기\n",
        "\n",
        "\n",
        "마지막 방식은 어떤 대상을 불러오는지 모호하기 때문에 권장되지 않는다.\n",
        "\n",
        "\n"
      ],
      "metadata": {
        "id": "Jl6Dy0x1Fuml"
      }
    },
    {
      "cell_type": "code",
      "source": [
        "import math"
      ],
      "metadata": {
        "id": "B7uL1J0AE-ju"
      },
      "execution_count": 21,
      "outputs": []
    },
    {
      "cell_type": "code",
      "source": [
        "print(math.ceil(3.5))\n",
        "print(math.ceil(3.0))"
      ],
      "metadata": {
        "colab": {
          "base_uri": "https://localhost:8080/"
        },
        "id": "WyAKS42UGt1t",
        "outputId": "c3ad1795-bd08-47d5-aef9-c747e641f882"
      },
      "execution_count": 22,
      "outputs": [
        {
          "output_type": "stream",
          "name": "stdout",
          "text": [
            "4\n",
            "3\n"
          ]
        }
      ]
    },
    {
      "cell_type": "markdown",
      "source": [
        "## **random**\n",
        "\n",
        "\n",
        "*   random.random(): 0부터 1사이의 숫자를 랜덤으로 반환한다\n",
        "\n",
        "*   random.randint():주어진 범위에서 정수를 하나 뽑는다\n",
        "*   random.choice(): 리스트 등을 입력으로 받아서 하나를 뽑는다\n"
      ],
      "metadata": {
        "id": "8Z_--aqGG5S9"
      }
    },
    {
      "cell_type": "code",
      "source": [
        "import random"
      ],
      "metadata": {
        "id": "N4ELZ02zG0ot"
      },
      "execution_count": 23,
      "outputs": []
    },
    {
      "cell_type": "code",
      "source": [
        "random.random()"
      ],
      "metadata": {
        "colab": {
          "base_uri": "https://localhost:8080/"
        },
        "id": "9CbfYXhVHLjt",
        "outputId": "c8672b24-ccd6-42be-9669-31c69206836b"
      },
      "execution_count": 24,
      "outputs": [
        {
          "output_type": "execute_result",
          "data": {
            "text/plain": [
              "0.7333674593551043"
            ]
          },
          "metadata": {},
          "execution_count": 24
        }
      ]
    },
    {
      "cell_type": "code",
      "source": [
        "random.randint(5,10)"
      ],
      "metadata": {
        "colab": {
          "base_uri": "https://localhost:8080/"
        },
        "id": "rnE_pzcrHS0u",
        "outputId": "a337b8fc-6de0-433c-8270-bd74737dd67f"
      },
      "execution_count": 27,
      "outputs": [
        {
          "output_type": "execute_result",
          "data": {
            "text/plain": [
              "8"
            ]
          },
          "metadata": {},
          "execution_count": 27
        }
      ]
    },
    {
      "cell_type": "code",
      "source": [
        "random.choice(['하나','둘','셋'])"
      ],
      "metadata": {
        "colab": {
          "base_uri": "https://localhost:8080/",
          "height": 35
        },
        "id": "vLMgrA8fHU5N",
        "outputId": "2edd62e3-1b73-4b7f-e737-7e3c791f4609"
      },
      "execution_count": 29,
      "outputs": [
        {
          "output_type": "execute_result",
          "data": {
            "application/vnd.google.colaboratory.intrinsic+json": {
              "type": "string"
            },
            "text/plain": [
              "'하나'"
            ]
          },
          "metadata": {},
          "execution_count": 29
        }
      ]
    },
    {
      "cell_type": "markdown",
      "source": [
        "## **collections**\n",
        "여러가지 유용한 컬렉션 데이터 타입을 지원한다.\n",
        "\n",
        "*   collection.Counter(): 카운터 클래스. 딕셔너리처럼 동작한다.\n",
        "*   collections.defaultdict: 기본값이 있는 딕셔너리\n",
        "\n"
      ],
      "metadata": {
        "id": "fAnkcAaFHela"
      }
    },
    {
      "cell_type": "code",
      "source": [
        "from collections import Counter\n",
        "\n",
        "counter=Counter()\n",
        "\n",
        "counter['a']+=1\n",
        "counter['b']+=1\n",
        "counter['a']+=1"
      ],
      "metadata": {
        "id": "IJpIJUa-HZ93"
      },
      "execution_count": 30,
      "outputs": []
    },
    {
      "cell_type": "code",
      "source": [
        "counter"
      ],
      "metadata": {
        "colab": {
          "base_uri": "https://localhost:8080/"
        },
        "id": "OthACTNPH4SM",
        "outputId": "a674984a-87e4-43b5-ada9-30031d5431d2"
      },
      "execution_count": 31,
      "outputs": [
        {
          "output_type": "execute_result",
          "data": {
            "text/plain": [
              "Counter({'a': 2, 'b': 1})"
            ]
          },
          "metadata": {},
          "execution_count": 31
        }
      ]
    },
    {
      "cell_type": "code",
      "source": [
        "counter.most_common()"
      ],
      "metadata": {
        "colab": {
          "base_uri": "https://localhost:8080/"
        },
        "id": "kdxgaaktH6Ee",
        "outputId": "8b6dc0ea-12a3-441c-dd07-d3ee0108c10a"
      },
      "execution_count": 32,
      "outputs": [
        {
          "output_type": "execute_result",
          "data": {
            "text/plain": [
              "[('a', 2), ('b', 1)]"
            ]
          },
          "metadata": {},
          "execution_count": 32
        }
      ]
    },
    {
      "cell_type": "code",
      "source": [
        "from collections import defaultdict"
      ],
      "metadata": {
        "id": "B4hFIOwyH-bD"
      },
      "execution_count": 33,
      "outputs": []
    },
    {
      "cell_type": "code",
      "source": [
        "list()"
      ],
      "metadata": {
        "colab": {
          "base_uri": "https://localhost:8080/"
        },
        "id": "tHMSI0uqICUM",
        "outputId": "97428543-0f34-4dc9-e5f7-5dceaf7da4e5"
      },
      "execution_count": 34,
      "outputs": [
        {
          "output_type": "execute_result",
          "data": {
            "text/plain": [
              "[]"
            ]
          },
          "metadata": {},
          "execution_count": 34
        }
      ]
    },
    {
      "cell_type": "code",
      "source": [
        "d=defaultdict(list)"
      ],
      "metadata": {
        "id": "IBMJPOg8IDek"
      },
      "execution_count": 35,
      "outputs": []
    },
    {
      "cell_type": "code",
      "source": [
        "d['non-exist-key'].append(3)"
      ],
      "metadata": {
        "id": "Yw_0x8k-IZgD"
      },
      "execution_count": 36,
      "outputs": []
    },
    {
      "cell_type": "code",
      "source": [
        "d"
      ],
      "metadata": {
        "colab": {
          "base_uri": "https://localhost:8080/"
        },
        "id": "aP0yxHaZIcoM",
        "outputId": "4883bc46-0708-40e5-ece1-ade2a5e522ab"
      },
      "execution_count": 37,
      "outputs": [
        {
          "output_type": "execute_result",
          "data": {
            "text/plain": [
              "defaultdict(list, {'non-exist-key': [3]})"
            ]
          },
          "metadata": {},
          "execution_count": 37
        }
      ]
    },
    {
      "cell_type": "markdown",
      "source": [
        "## **pickle**\n",
        "파이썬 객체를 파일로 저장하는 간단한 방식이다. 파일은 바이너리 형식으로 저장된다."
      ],
      "metadata": {
        "id": "JADKgyhDJ0k8"
      }
    },
    {
      "cell_type": "code",
      "source": [
        "import pickle\n",
        "a=[1,2,3]\n",
        "f=open('list.pickle','wb')"
      ],
      "metadata": {
        "id": "5lTvFb_AIdXc"
      },
      "execution_count": 39,
      "outputs": []
    },
    {
      "cell_type": "code",
      "source": [
        "pickle.dump(a,f)\n",
        "f.close()"
      ],
      "metadata": {
        "id": "X1NwLWTsKAEl"
      },
      "execution_count": 40,
      "outputs": []
    },
    {
      "cell_type": "code",
      "source": [
        "!cat list.pickle"
      ],
      "metadata": {
        "colab": {
          "base_uri": "https://localhost:8080/"
        },
        "id": "TXOImS6IKTjk",
        "outputId": "a3142e4c-46fd-4798-eded-588293fca707"
      },
      "execution_count": 41,
      "outputs": [
        {
          "output_type": "stream",
          "name": "stdout",
          "text": [
            "�\u0003]q\u0000(K\u0001K\u0002K\u0003e."
          ]
        }
      ]
    },
    {
      "cell_type": "code",
      "source": [
        "f=open('list.pickle','rb')\n",
        "b=pickle.load(f)\n",
        "b"
      ],
      "metadata": {
        "colab": {
          "base_uri": "https://localhost:8080/"
        },
        "id": "eUv0pDvJKX5b",
        "outputId": "c45149e4-99fd-4b27-bdee-771afb4c80da"
      },
      "execution_count": 42,
      "outputs": [
        {
          "output_type": "execute_result",
          "data": {
            "text/plain": [
              "[1, 2, 3]"
            ]
          },
          "metadata": {},
          "execution_count": 42
        }
      ]
    },
    {
      "cell_type": "markdown",
      "source": [
        "## **sys,os**\n",
        "컴퓨터 시스템에 접근할 수 있는 기능을 제공하는 라이브러리\n",
        "\n",
        "\n",
        "*   sys.path: 명령어를 찾는 경로의 목록과 순서를 지정하는 변수\n",
        "*   os.environ:시스템의 환경변수를 담고 있는 변수\n",
        "\n",
        "*   os.getcwd(): 현재 파일의 경로를 반환\n",
        "*   os.listdir():현재 경로의 파일 목록을 보여줌\n",
        "\n",
        "\n"
      ],
      "metadata": {
        "id": "6yzxhz_9K7K7"
      }
    },
    {
      "cell_type": "code",
      "source": [
        "import sys, os"
      ],
      "metadata": {
        "id": "AA5_8mZ6Kj-D"
      },
      "execution_count": 43,
      "outputs": []
    },
    {
      "cell_type": "code",
      "source": [
        "os.listdir()"
      ],
      "metadata": {
        "colab": {
          "base_uri": "https://localhost:8080/"
        },
        "id": "a-rYzFoLLbSk",
        "outputId": "6508a128-ccaf-4e19-a8a6-4496a58eac3e"
      },
      "execution_count": 44,
      "outputs": [
        {
          "output_type": "execute_result",
          "data": {
            "text/plain": [
              "['.config', 'list.pickle', 'newfile.txt', 'sample_data']"
            ]
          },
          "metadata": {},
          "execution_count": 44
        }
      ]
    },
    {
      "cell_type": "markdown",
      "source": [
        "# **외부 라이브러리(External library)**\n",
        "외부 라이브러리는 써드파티 라이브러리(Third-party library)라고도 불린다. 써드파티 라이브러리의 종류는 너무 많아서 나열하는 것이 불가능할 정도.\n",
        "\n",
        "써드파티 라이브러리를 설치할 때는 pip을 사용한다. pip은 파이썬 명령어가 아니라 독립적인 프로그램이기 때문에 !를 붙여서 실행해야 한다."
      ],
      "metadata": {
        "id": "rQOFz-LGLgr0"
      }
    },
    {
      "cell_type": "code",
      "source": [
        "!pip install numpy"
      ],
      "metadata": {
        "colab": {
          "base_uri": "https://localhost:8080/"
        },
        "id": "QMwIj-2ULdUz",
        "outputId": "053040c1-3ec2-4971-b260-24c47f379eb9"
      },
      "execution_count": 45,
      "outputs": [
        {
          "output_type": "stream",
          "name": "stdout",
          "text": [
            "Requirement already satisfied: numpy in /usr/local/lib/python3.7/dist-packages (1.19.5)\n"
          ]
        }
      ]
    },
    {
      "cell_type": "markdown",
      "source": [
        "## **numpy**\n",
        "numpy는 행렬과 수치 해석 관련 데이터 타입과 함수들을 제공한다. 데이터 분석에서 행렬 및 수치 해석 기능은 필수적이다. numpy는 데이터 분석을 하며 직접 사용하기도 하지만 다른 많은 외부 라이브러리들이 의존하는 라이브러리이기도 하다. 즉, 다른 라이브러리들의 기본이 되는 라이브러리인 셈이다. pandas, scikit-learn, pytorch 등 데이터 분석에서 필수적인 라이브러리들이 모두 numpy에 기반하고 있다. 따라서 numpy를 직접 사용하지 않더라도 numpy의 개녑에 대해 이해하는 것은 필수적.\n",
        "\n",
        "*   numpy.array():다차원 행렬(ndarray)을 만든다.\n",
        "*   numpy.arrange(): range와 비슷한 방식으로 숫자를 나열하여 다차원 행렬(ndarray)을 만든다.\n",
        "\n",
        "다차원 행렬(ndarray)은 numpy의 핵심 데이터 구조(data structure)이며 많은 라이브러리들이 numpy의 다차원 행렬을 사용한다.\n",
        "\n",
        "\n",
        "*   ndarray.shape:다차원 행렬의 차원수를 보여준다.\n",
        "*   ndarrary.dtype: 다차원 행렬이 들고 있는 값의 데이터 타입을 보여준다.\n",
        "\n",
        "numpy는 주로 np라는 약자로 불러와서 사용한다.\n",
        "\n",
        "\n",
        "\n"
      ],
      "metadata": {
        "id": "qXFm90lVL_sj"
      }
    },
    {
      "cell_type": "code",
      "source": [
        "import numpy as np"
      ],
      "metadata": {
        "id": "heoHPlozL7qC"
      },
      "execution_count": 46,
      "outputs": []
    },
    {
      "cell_type": "code",
      "source": [
        "a=np.array([0,1,2,3,4,5])"
      ],
      "metadata": {
        "id": "wgORIdtUOBMs"
      },
      "execution_count": 47,
      "outputs": []
    },
    {
      "cell_type": "code",
      "source": [
        "a"
      ],
      "metadata": {
        "colab": {
          "base_uri": "https://localhost:8080/"
        },
        "id": "7SzZISMKOEEK",
        "outputId": "2c18cf61-700f-4903-f388-841fe717a265"
      },
      "execution_count": 48,
      "outputs": [
        {
          "output_type": "execute_result",
          "data": {
            "text/plain": [
              "array([0, 1, 2, 3, 4, 5])"
            ]
          },
          "metadata": {},
          "execution_count": 48
        }
      ]
    },
    {
      "cell_type": "code",
      "source": [
        "a.shape"
      ],
      "metadata": {
        "colab": {
          "base_uri": "https://localhost:8080/"
        },
        "id": "Love5btUOEfS",
        "outputId": "449b3d71-7228-48b2-dc1e-df7509953e61"
      },
      "execution_count": 50,
      "outputs": [
        {
          "output_type": "execute_result",
          "data": {
            "text/plain": [
              "(6,)"
            ]
          },
          "metadata": {},
          "execution_count": 50
        }
      ]
    },
    {
      "cell_type": "code",
      "source": [
        "a.dtype"
      ],
      "metadata": {
        "colab": {
          "base_uri": "https://localhost:8080/"
        },
        "id": "LHXuZySzOGY6",
        "outputId": "4dde1682-e5bb-4bf8-948a-6c2d22ae379d"
      },
      "execution_count": 51,
      "outputs": [
        {
          "output_type": "execute_result",
          "data": {
            "text/plain": [
              "dtype('int64')"
            ]
          },
          "metadata": {},
          "execution_count": 51
        }
      ]
    },
    {
      "cell_type": "code",
      "source": [
        "b=np.arange(6)\n",
        "b"
      ],
      "metadata": {
        "colab": {
          "base_uri": "https://localhost:8080/"
        },
        "id": "cb5b9AMLOLNS",
        "outputId": "20e73554-795d-4d18-d004-ae9268caa28f"
      },
      "execution_count": 53,
      "outputs": [
        {
          "output_type": "execute_result",
          "data": {
            "text/plain": [
              "array([0, 1, 2, 3, 4, 5])"
            ]
          },
          "metadata": {},
          "execution_count": 53
        }
      ]
    },
    {
      "cell_type": "code",
      "source": [
        "b.reshape(2,3) #가로가 행, 세로가 열"
      ],
      "metadata": {
        "colab": {
          "base_uri": "https://localhost:8080/"
        },
        "id": "0l1tRaL-OOIL",
        "outputId": "2da8bf77-5fc1-4992-e63a-228e7e40cdfd"
      },
      "execution_count": 54,
      "outputs": [
        {
          "output_type": "execute_result",
          "data": {
            "text/plain": [
              "array([[0, 1, 2],\n",
              "       [3, 4, 5]])"
            ]
          },
          "metadata": {},
          "execution_count": 54
        }
      ]
    },
    {
      "cell_type": "code",
      "source": [
        ""
      ],
      "metadata": {
        "id": "knQ5EwDSOSDT"
      },
      "execution_count": null,
      "outputs": []
    }
  ]
}