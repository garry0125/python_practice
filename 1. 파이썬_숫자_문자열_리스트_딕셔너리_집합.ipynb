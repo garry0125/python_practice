{
  "nbformat": 4,
  "nbformat_minor": 0,
  "metadata": {
    "colab": {
      "name": "Untitled0.ipynb",
      "provenance": [],
      "toc_visible": true,
      "collapsed_sections": [
        "IYCcE_lequaQ",
        "naBMipqXxOz-",
        "KXUMUMW9zbkZ",
        "zS_QLqeV2K_i",
        "G8qGgVbS3e_2",
        "FrpFXeyP4Box",
        "lKPBZU154bSS"
      ]
    },
    "kernelspec": {
      "name": "python3",
      "display_name": "Python 3"
    },
    "language_info": {
      "name": "python"
    },
    "accelerator": "GPU"
  },
  "cells": [
    {
      "cell_type": "markdown",
      "source": [
        "### **숫자열**"
      ],
      "metadata": {
        "id": "TIwI3C7Cqj9c"
      }
    },
    {
      "cell_type": "markdown",
      "source": [
        "계산기가 없어서 파이썬으로 계산을 할 수 있다"
      ],
      "metadata": {
        "id": "5VJS-Vzmozq1"
      }
    },
    {
      "cell_type": "code",
      "execution_count": null,
      "metadata": {
        "colab": {
          "base_uri": "https://localhost:8080/"
        },
        "id": "uA39vilIokjO",
        "outputId": "abb49cd7-11ba-4361-f06c-8ff4ef968bdc"
      },
      "outputs": [
        {
          "output_type": "execute_result",
          "data": {
            "text/plain": [
              "3"
            ]
          },
          "metadata": {},
          "execution_count": 1
        }
      ],
      "source": [
        "1+2"
      ]
    },
    {
      "cell_type": "code",
      "source": [
        "3/2.4"
      ],
      "metadata": {
        "colab": {
          "base_uri": "https://localhost:8080/"
        },
        "id": "f113Dia0o1eM",
        "outputId": "baeb833e-2121-40ab-8d19-4116703fbc35"
      },
      "execution_count": null,
      "outputs": [
        {
          "output_type": "execute_result",
          "data": {
            "text/plain": [
              "1.25"
            ]
          },
          "metadata": {},
          "execution_count": 1
        }
      ]
    },
    {
      "cell_type": "code",
      "source": [
        "3*9"
      ],
      "metadata": {
        "colab": {
          "base_uri": "https://localhost:8080/"
        },
        "id": "MVfmYDP6o5so",
        "outputId": "ee749162-16e0-48cc-e978-9138e8ead80f"
      },
      "execution_count": null,
      "outputs": [
        {
          "output_type": "execute_result",
          "data": {
            "text/plain": [
              "27"
            ]
          },
          "metadata": {},
          "execution_count": 2
        }
      ]
    },
    {
      "cell_type": "markdown",
      "source": [
        "질문) 환율이 1달러당 1200일때, 한국 돈 만원 짜리 2장과 오천원 짜리 3장, 천원 짜리 1 장은 몇 달러일까?"
      ],
      "metadata": {
        "id": "Fhhmis2Co8iv"
      }
    },
    {
      "cell_type": "code",
      "source": [
        "(10000*2+5000*3+1000)/1200"
      ],
      "metadata": {
        "colab": {
          "base_uri": "https://localhost:8080/"
        },
        "id": "1nYRR_eCo7jB",
        "outputId": "7d47029e-97c9-4a77-b08a-11a3c9885440"
      },
      "execution_count": null,
      "outputs": [
        {
          "output_type": "execute_result",
          "data": {
            "text/plain": [
              "30.0"
            ]
          },
          "metadata": {},
          "execution_count": 3
        }
      ]
    },
    {
      "cell_type": "markdown",
      "source": [
        "변수에 숫자를 대입하고 계산도 할 수 있다!"
      ],
      "metadata": {
        "id": "nUE3HasJpJj_"
      }
    },
    {
      "cell_type": "code",
      "source": [
        "a=1\n",
        "b=2\n",
        "a+b"
      ],
      "metadata": {
        "colab": {
          "base_uri": "https://localhost:8080/"
        },
        "id": "7e7Wv-gBpIV-",
        "outputId": "dab360c4-817e-48e9-c661-929afc1f99c1"
      },
      "execution_count": null,
      "outputs": [
        {
          "output_type": "execute_result",
          "data": {
            "text/plain": [
              "3"
            ]
          },
          "metadata": {},
          "execution_count": 4
        }
      ]
    },
    {
      "cell_type": "markdown",
      "source": [
        "여기서 제곱은 별표 두개(**)로 표시된다"
      ],
      "metadata": {
        "id": "L3UhxbqCpQPV"
      }
    },
    {
      "cell_type": "code",
      "source": [
        "a=3\n",
        "b=4\n",
        "a**b"
      ],
      "metadata": {
        "colab": {
          "base_uri": "https://localhost:8080/"
        },
        "id": "QYqxgOeDpPFI",
        "outputId": "b855c300-be41-496d-fbb6-0cace6da205b"
      },
      "execution_count": null,
      "outputs": [
        {
          "output_type": "execute_result",
          "data": {
            "text/plain": [
              "81"
            ]
          },
          "metadata": {},
          "execution_count": 5
        }
      ]
    },
    {
      "cell_type": "markdown",
      "source": [
        "나눗샘은 목과 나머지로 나누어진다\n",
        "\n",
        "몫 = 나누기 기호 두개(//)--> 결과의 소숫점 아래를 버린 값"
      ],
      "metadata": {
        "id": "_sIyPJ7zpX63"
      }
    },
    {
      "cell_type": "code",
      "source": [
        "7//4"
      ],
      "metadata": {
        "colab": {
          "base_uri": "https://localhost:8080/"
        },
        "id": "oCVdVBsSpV6y",
        "outputId": "ce8448fe-a848-4f21-ff60-4b6594fafacc"
      },
      "execution_count": null,
      "outputs": [
        {
          "output_type": "execute_result",
          "data": {
            "text/plain": [
              "1"
            ]
          },
          "metadata": {},
          "execution_count": 6
        }
      ]
    },
    {
      "cell_type": "markdown",
      "source": [
        "나눗셈의 나머지 = 퍼센트 기호(%)"
      ],
      "metadata": {
        "id": "2OabimgPpqra"
      }
    },
    {
      "cell_type": "code",
      "source": [
        "7%3"
      ],
      "metadata": {
        "colab": {
          "base_uri": "https://localhost:8080/"
        },
        "id": "eCtnx5YjppeP",
        "outputId": "a30fd1d9-715a-4416-fdff-24a1df57904e"
      },
      "execution_count": null,
      "outputs": [
        {
          "output_type": "execute_result",
          "data": {
            "text/plain": [
              "1"
            ]
          },
          "metadata": {},
          "execution_count": 7
        }
      ]
    },
    {
      "cell_type": "markdown",
      "source": [
        "예) 36.5 섭씨--> ?화씨\n",
        "\n",
        "36.5 * (9/5) +32"
      ],
      "metadata": {
        "id": "plF7G9CVp8w-"
      }
    },
    {
      "cell_type": "code",
      "source": [
        "36.5*9/5+32"
      ],
      "metadata": {
        "colab": {
          "base_uri": "https://localhost:8080/"
        },
        "id": "_RiNqEwfpwd-",
        "outputId": "9469378c-28d6-47dd-dc17-1d7c80ba2016"
      },
      "execution_count": null,
      "outputs": [
        {
          "output_type": "execute_result",
          "data": {
            "text/plain": [
              "97.7"
            ]
          },
          "metadata": {},
          "execution_count": 8
        }
      ]
    },
    {
      "cell_type": "markdown",
      "source": [
        "예2) 1평은 3.3 제곱미터\n",
        "\n",
        "6평인 정사각형 한모서리는 몇미터인가"
      ],
      "metadata": {
        "id": "zQSGf_ZxqWyd"
      }
    },
    {
      "cell_type": "code",
      "source": [
        "(3.3*6)**(1/2)"
      ],
      "metadata": {
        "colab": {
          "base_uri": "https://localhost:8080/"
        },
        "id": "sZmXYgkvqVco",
        "outputId": "d42f1dfc-9d55-46cd-905e-ce2c3fa54070"
      },
      "execution_count": null,
      "outputs": [
        {
          "output_type": "execute_result",
          "data": {
            "text/plain": [
              "4.449719092257397"
            ]
          },
          "metadata": {},
          "execution_count": 9
        }
      ]
    },
    {
      "cell_type": "code",
      "source": [
        ""
      ],
      "metadata": {
        "id": "Qx4jyib9qvK8"
      },
      "execution_count": null,
      "outputs": []
    },
    {
      "cell_type": "markdown",
      "source": [
        "### **문자열**"
      ],
      "metadata": {
        "id": "IYCcE_lequaQ"
      }
    },
    {
      "cell_type": "markdown",
      "source": [
        "문자열은 문자, 단어 등으로 구성된 문자들의 나열을 의미\n",
        "\n",
        "문자열은 모두 큰 따옴표(\"\")로 둘러쌈\n",
        "\n",
        "123은 숫자이지만 \"123\"은 문자열"
      ],
      "metadata": {
        "id": "9zpBgtmGq4lP"
      }
    },
    {
      "cell_type": "code",
      "source": [
        "\"Hello World\""
      ],
      "metadata": {
        "colab": {
          "base_uri": "https://localhost:8080/",
          "height": 35
        },
        "id": "-jH_1WDBq3QL",
        "outputId": "d0bebb88-9cd8-46e8-bc30-fa3ac5e39fe6"
      },
      "execution_count": null,
      "outputs": [
        {
          "output_type": "execute_result",
          "data": {
            "application/vnd.google.colaboratory.intrinsic+json": {
              "type": "string"
            },
            "text/plain": [
              "'Hello World'"
            ]
          },
          "metadata": {},
          "execution_count": 10
        }
      ]
    },
    {
      "cell_type": "markdown",
      "source": [
        "작은 따옴표로 양쪽 둘러싸기"
      ],
      "metadata": {
        "id": "p4KqJev6rTdi"
      }
    },
    {
      "cell_type": "code",
      "source": [
        "'Python is fun'"
      ],
      "metadata": {
        "colab": {
          "base_uri": "https://localhost:8080/",
          "height": 35
        },
        "id": "8lmMafRKrPFv",
        "outputId": "aef41c3f-2510-4513-965e-276f316e92ba"
      },
      "execution_count": null,
      "outputs": [
        {
          "output_type": "execute_result",
          "data": {
            "application/vnd.google.colaboratory.intrinsic+json": {
              "type": "string"
            },
            "text/plain": [
              "'Python is fun'"
            ]
          },
          "metadata": {},
          "execution_count": 11
        }
      ]
    },
    {
      "cell_type": "code",
      "source": [
        "\"\"\"Like is too short, You need Python\"\"\""
      ],
      "metadata": {
        "colab": {
          "base_uri": "https://localhost:8080/",
          "height": 35
        },
        "id": "ugAAjcgXrSvj",
        "outputId": "506f5e7f-d816-4805-82f4-1c794bc3ea6a"
      },
      "execution_count": null,
      "outputs": [
        {
          "output_type": "execute_result",
          "data": {
            "application/vnd.google.colaboratory.intrinsic+json": {
              "type": "string"
            },
            "text/plain": [
              "'Like is too short, You need Python'"
            ]
          },
          "metadata": {},
          "execution_count": 12
        }
      ]
    },
    {
      "cell_type": "markdown",
      "source": [
        "문자열에 작은 따옴표 포함시키기\n",
        "\n",
        "문자 내 작은 따옴표를 사용하게 되면 문자열을 큰 따옴표로 둘러 싸줘야함"
      ],
      "metadata": {
        "id": "5s6Rvlv-rgau"
      }
    },
    {
      "cell_type": "code",
      "source": [
        "food=\"Python's favorite food is perl\""
      ],
      "metadata": {
        "id": "cC3ktMZIroQQ"
      },
      "execution_count": null,
      "outputs": []
    },
    {
      "cell_type": "code",
      "source": [
        "food"
      ],
      "metadata": {
        "colab": {
          "base_uri": "https://localhost:8080/",
          "height": 35
        },
        "id": "Xq-iLGPmrZvf",
        "outputId": "faac62ec-2dfc-4f5e-f7eb-5821aa89cb24"
      },
      "execution_count": null,
      "outputs": [
        {
          "output_type": "execute_result",
          "data": {
            "application/vnd.google.colaboratory.intrinsic+json": {
              "type": "string"
            },
            "text/plain": [
              "\"Python's favorite food is perl\""
            ]
          },
          "metadata": {},
          "execution_count": 14
        }
      ]
    },
    {
      "cell_type": "markdown",
      "source": [
        "전부 작은 따옴표를 쓸 경우 구문오류(SyntaxError)이 발생한다"
      ],
      "metadata": {
        "id": "51nu4n0SrvY7"
      }
    },
    {
      "cell_type": "code",
      "source": [
        "food='Python's favorite food is perl'"
      ],
      "metadata": {
        "colab": {
          "base_uri": "https://localhost:8080/",
          "height": 131
        },
        "id": "98Z6SkyErs0y",
        "outputId": "7957fbc1-e58a-44e8-9829-a46ec8d93cbd"
      },
      "execution_count": null,
      "outputs": [
        {
          "output_type": "error",
          "ename": "SyntaxError",
          "evalue": "ignored",
          "traceback": [
            "\u001b[0;36m  File \u001b[0;32m\"<ipython-input-15-1f049dc45345>\"\u001b[0;36m, line \u001b[0;32m1\u001b[0m\n\u001b[0;31m    food='Python's favorite food is perl'\u001b[0m\n\u001b[0m                 ^\u001b[0m\n\u001b[0;31mSyntaxError\u001b[0m\u001b[0;31m:\u001b[0m invalid syntax\n"
          ]
        }
      ]
    },
    {
      "cell_type": "markdown",
      "source": [
        "문자열에 큰 따옴표를 표함시키고 싶을 경우 작은 따옴표로 둘러싸면 된다"
      ],
      "metadata": {
        "id": "oDSx4Nfjr_3t"
      }
    },
    {
      "cell_type": "code",
      "source": [
        "say='\"Python is very easy.\" he says'"
      ],
      "metadata": {
        "id": "KI9yG-4-r0jY"
      },
      "execution_count": null,
      "outputs": []
    },
    {
      "cell_type": "code",
      "source": [
        "say"
      ],
      "metadata": {
        "colab": {
          "base_uri": "https://localhost:8080/",
          "height": 35
        },
        "id": "Brnw8mf9sGtK",
        "outputId": "5aeec832-59cf-48eb-f407-6c3bed15678e"
      },
      "execution_count": null,
      "outputs": [
        {
          "output_type": "execute_result",
          "data": {
            "application/vnd.google.colaboratory.intrinsic+json": {
              "type": "string"
            },
            "text/plain": [
              "'\"Python is very easy.\" he says'"
            ]
          },
          "metadata": {},
          "execution_count": 17
        }
      ]
    },
    {
      "cell_type": "markdown",
      "source": [
        "백슬래시(\\\\)를 이용해서 작은 따옴표와 큰 따옴표를 문자열에 포함시킬 수 있다\n",
        "\n",
        "이를 이스케이핑(escaping)이라고 한다\n",
        "이스케이핑은 일반적으로 특수한 의미가 있는 문자를 일반 문자로 만들어 준다"
      ],
      "metadata": {
        "id": "gZ1QGAkys3lt"
      }
    },
    {
      "cell_type": "code",
      "source": [
        "food='Python\\'s favorite food is perl'\n",
        "say=\"\\\"Python is very easy.\\\" he says\""
      ],
      "metadata": {
        "id": "b04rmOTXsHl0"
      },
      "execution_count": null,
      "outputs": []
    },
    {
      "cell_type": "code",
      "source": [
        "food"
      ],
      "metadata": {
        "colab": {
          "base_uri": "https://localhost:8080/",
          "height": 35
        },
        "id": "Pzde4MRztcj5",
        "outputId": "b918f642-0a9d-4cff-a878-13c154198b83"
      },
      "execution_count": null,
      "outputs": [
        {
          "output_type": "execute_result",
          "data": {
            "application/vnd.google.colaboratory.intrinsic+json": {
              "type": "string"
            },
            "text/plain": [
              "\"Python's favorite food is perl\""
            ]
          },
          "metadata": {},
          "execution_count": 22
        }
      ]
    },
    {
      "cell_type": "code",
      "source": [
        "say"
      ],
      "metadata": {
        "colab": {
          "base_uri": "https://localhost:8080/",
          "height": 35
        },
        "id": "HqVAeWVNtt8M",
        "outputId": "2fdd441e-5e30-4ea1-d356-64c9aeeef63a"
      },
      "execution_count": null,
      "outputs": [
        {
          "output_type": "execute_result",
          "data": {
            "application/vnd.google.colaboratory.intrinsic+json": {
              "type": "string"
            },
            "text/plain": [
              "'\"Python is very easy.\" he says'"
            ]
          },
          "metadata": {},
          "execution_count": 23
        }
      ]
    },
    {
      "cell_type": "markdown",
      "source": [
        "여러 줄인 문자열을 변수에 대입하고 싶을 때\n",
        "\n",
        "줄바꾸기 위해서 이스케이프 코드 \\\\n을 삽입"
      ],
      "metadata": {
        "id": "WxVm7v4OtywC"
      }
    },
    {
      "cell_type": "code",
      "source": [
        "multiline=\"Life is too short\\nYou need Python\""
      ],
      "metadata": {
        "id": "f1Pyynystubu"
      },
      "execution_count": null,
      "outputs": []
    },
    {
      "cell_type": "code",
      "source": [
        "print(multiline)"
      ],
      "metadata": {
        "colab": {
          "base_uri": "https://localhost:8080/"
        },
        "id": "dvvN4SEct-c-",
        "outputId": "5f05698f-bb8e-49ab-ac2d-02a29d760bee"
      },
      "execution_count": null,
      "outputs": [
        {
          "output_type": "stream",
          "name": "stdout",
          "text": [
            "Life is too short\n",
            "You need Python\n"
          ]
        }
      ]
    },
    {
      "cell_type": "markdown",
      "source": [
        "연속된 작은 따옴표 3개 또는 큰 따옴표 3개 이용"
      ],
      "metadata": {
        "id": "cPKO8xwtuI1f"
      }
    },
    {
      "cell_type": "code",
      "source": [
        "multiline='''\n",
        "Life is too short\n",
        "You need Python\n",
        "'''"
      ],
      "metadata": {
        "id": "BzRU14-wt_Vo"
      },
      "execution_count": null,
      "outputs": []
    },
    {
      "cell_type": "code",
      "source": [
        "print(multiline)"
      ],
      "metadata": {
        "colab": {
          "base_uri": "https://localhost:8080/"
        },
        "id": "AGOgyw3xuRQ4",
        "outputId": "51cf3be9-9fd4-4f1b-f8b2-9c6ee3771ed9"
      },
      "execution_count": null,
      "outputs": [
        {
          "output_type": "stream",
          "name": "stdout",
          "text": [
            "\n",
            "Life is too short\n",
            "You need Python\n",
            "\n"
          ]
        }
      ]
    },
    {
      "cell_type": "markdown",
      "source": [
        "문자열 연산하기\n",
        "\n",
        "파이썬에서는 문자열을 더하거나 곱할 수 있다"
      ],
      "metadata": {
        "id": "Do0O-b5BuU5s"
      }
    },
    {
      "cell_type": "code",
      "source": [
        "head=\"Python\"\n",
        "tail=\"is fun!\"\n",
        "head+tail"
      ],
      "metadata": {
        "colab": {
          "base_uri": "https://localhost:8080/",
          "height": 35
        },
        "id": "pfwIsUdIuSyx",
        "outputId": "36c3ccc6-131a-40b6-d3cd-0ce4ec8d9bea"
      },
      "execution_count": null,
      "outputs": [
        {
          "output_type": "execute_result",
          "data": {
            "application/vnd.google.colaboratory.intrinsic+json": {
              "type": "string"
            },
            "text/plain": [
              "'Pythonis fun!'"
            ]
          },
          "metadata": {},
          "execution_count": 32
        }
      ]
    },
    {
      "cell_type": "code",
      "source": [
        "a=\"python\"\n",
        "a*2"
      ],
      "metadata": {
        "colab": {
          "base_uri": "https://localhost:8080/",
          "height": 35
        },
        "id": "J0kXt3pJubpp",
        "outputId": "b4563708-8ce5-4980-f3d5-a35b597e054b"
      },
      "execution_count": null,
      "outputs": [
        {
          "output_type": "execute_result",
          "data": {
            "application/vnd.google.colaboratory.intrinsic+json": {
              "type": "string"
            },
            "text/plain": [
              "'pythonpython'"
            ]
          },
          "metadata": {},
          "execution_count": 33
        }
      ]
    },
    {
      "cell_type": "code",
      "source": [
        "# 문자열 곱하기 응용\n",
        "print(\"=\"*50)\n",
        "print(\"My Program\")\n",
        "print(\"=\"*50)"
      ],
      "metadata": {
        "colab": {
          "base_uri": "https://localhost:8080/"
        },
        "id": "W3I3b5lSufFE",
        "outputId": "e1d0ba2f-ab77-4a33-9665-4c4d02ddb15f"
      },
      "execution_count": null,
      "outputs": [
        {
          "output_type": "stream",
          "name": "stdout",
          "text": [
            "==================================================\n",
            "My Program\n",
            "==================================================\n"
          ]
        }
      ]
    },
    {
      "cell_type": "markdown",
      "source": [
        "문자열 인덱싱과 슬라이싱\n",
        "\n",
        "인덱싱  = 무엇인가를 \"가르킨다\"\n",
        "\n",
        "슬라이딩 = 무엇인가를 \"잘라낸다\""
      ],
      "metadata": {
        "id": "o5vLsk_0utWl"
      }
    },
    {
      "cell_type": "code",
      "source": [
        "a=\"Life is too short, You need Python\""
      ],
      "metadata": {
        "id": "1l_IhsFEurfb"
      },
      "execution_count": null,
      "outputs": []
    },
    {
      "cell_type": "code",
      "source": [
        "a[3]"
      ],
      "metadata": {
        "colab": {
          "base_uri": "https://localhost:8080/",
          "height": 35
        },
        "id": "k_l93V1lu7JS",
        "outputId": "779811ba-843d-4ec6-82fe-7745caf35b97"
      },
      "execution_count": null,
      "outputs": [
        {
          "output_type": "execute_result",
          "data": {
            "application/vnd.google.colaboratory.intrinsic+json": {
              "type": "string"
            },
            "text/plain": [
              "'e'"
            ]
          },
          "metadata": {},
          "execution_count": 36
        }
      ]
    },
    {
      "cell_type": "markdown",
      "source": [
        "위에서 왜 3인데 f가 아니라 4번째은 e가 나올까?\n",
        "\n",
        "숫자는 0부터 시작하기 때문이다"
      ],
      "metadata": {
        "id": "qw24xqc9u-ZG"
      }
    },
    {
      "cell_type": "code",
      "source": [
        "a[0]"
      ],
      "metadata": {
        "colab": {
          "base_uri": "https://localhost:8080/",
          "height": 35
        },
        "id": "y_sLF0t1u7pG",
        "outputId": "7c97830a-df4d-405d-b001-46bbc0ed26da"
      },
      "execution_count": null,
      "outputs": [
        {
          "output_type": "execute_result",
          "data": {
            "application/vnd.google.colaboratory.intrinsic+json": {
              "type": "string"
            },
            "text/plain": [
              "'L'"
            ]
          },
          "metadata": {},
          "execution_count": 37
        }
      ]
    },
    {
      "cell_type": "code",
      "source": [
        "a[12]"
      ],
      "metadata": {
        "colab": {
          "base_uri": "https://localhost:8080/",
          "height": 35
        },
        "id": "MJYfSvGOvHBw",
        "outputId": "f57212aa-4f11-4bd1-e5ea-4b32c1226275"
      },
      "execution_count": null,
      "outputs": [
        {
          "output_type": "execute_result",
          "data": {
            "application/vnd.google.colaboratory.intrinsic+json": {
              "type": "string"
            },
            "text/plain": [
              "'s'"
            ]
          },
          "metadata": {},
          "execution_count": 38
        }
      ]
    },
    {
      "cell_type": "code",
      "source": [
        "a[-1] # 빼기 기호를 넣으면 반대편부터 샌다"
      ],
      "metadata": {
        "colab": {
          "base_uri": "https://localhost:8080/",
          "height": 35
        },
        "id": "gE0R_wYYvH1U",
        "outputId": "0c498575-6fb4-4af5-f855-e0a7f0a6c76b"
      },
      "execution_count": null,
      "outputs": [
        {
          "output_type": "execute_result",
          "data": {
            "application/vnd.google.colaboratory.intrinsic+json": {
              "type": "string"
            },
            "text/plain": [
              "'n'"
            ]
          },
          "metadata": {},
          "execution_count": 39
        }
      ]
    },
    {
      "cell_type": "code",
      "source": [
        "# 문자열 슬라이싱\n",
        "b=a[0],a[1],a[2],a[3]\n",
        "b"
      ],
      "metadata": {
        "colab": {
          "base_uri": "https://localhost:8080/"
        },
        "id": "i2mJnTkyvIjS",
        "outputId": "59e50437-df6a-477e-ea43-f31346c2c664"
      },
      "execution_count": null,
      "outputs": [
        {
          "output_type": "execute_result",
          "data": {
            "text/plain": [
              "('L', 'i', 'f', 'e')"
            ]
          },
          "metadata": {},
          "execution_count": 40
        }
      ]
    },
    {
      "cell_type": "code",
      "source": [
        "a[0:4] # 0부터 4까지 불러오기"
      ],
      "metadata": {
        "colab": {
          "base_uri": "https://localhost:8080/",
          "height": 35
        },
        "id": "j79qWTvOvT4z",
        "outputId": "9df061d0-ec93-4b60-deb4-ef602a589800"
      },
      "execution_count": null,
      "outputs": [
        {
          "output_type": "execute_result",
          "data": {
            "application/vnd.google.colaboratory.intrinsic+json": {
              "type": "string"
            },
            "text/plain": [
              "'Life'"
            ]
          },
          "metadata": {},
          "execution_count": 42
        }
      ]
    },
    {
      "cell_type": "code",
      "source": [
        "a[19:]"
      ],
      "metadata": {
        "colab": {
          "base_uri": "https://localhost:8080/",
          "height": 35
        },
        "id": "m5DfYkYYvWYQ",
        "outputId": "3dd32b01-9fba-4a14-ee67-3a2c15e5d4ed"
      },
      "execution_count": null,
      "outputs": [
        {
          "output_type": "execute_result",
          "data": {
            "application/vnd.google.colaboratory.intrinsic+json": {
              "type": "string"
            },
            "text/plain": [
              "'You need Python'"
            ]
          },
          "metadata": {},
          "execution_count": 43
        }
      ]
    },
    {
      "cell_type": "code",
      "source": [
        "a[:17]"
      ],
      "metadata": {
        "colab": {
          "base_uri": "https://localhost:8080/",
          "height": 35
        },
        "id": "ZqpVOHsfvfpj",
        "outputId": "bf9d9932-d7aa-45b5-b13c-3891ab200c90"
      },
      "execution_count": null,
      "outputs": [
        {
          "output_type": "execute_result",
          "data": {
            "application/vnd.google.colaboratory.intrinsic+json": {
              "type": "string"
            },
            "text/plain": [
              "'Life is too short'"
            ]
          },
          "metadata": {},
          "execution_count": 44
        }
      ]
    },
    {
      "cell_type": "code",
      "source": [
        "a[19:-7]"
      ],
      "metadata": {
        "colab": {
          "base_uri": "https://localhost:8080/",
          "height": 35
        },
        "id": "i3bnXeH2vhO3",
        "outputId": "b3a6b475-96c9-40ef-9bf7-248b5b3ebdf1"
      },
      "execution_count": null,
      "outputs": [
        {
          "output_type": "execute_result",
          "data": {
            "application/vnd.google.colaboratory.intrinsic+json": {
              "type": "string"
            },
            "text/plain": [
              "'You need'"
            ]
          },
          "metadata": {},
          "execution_count": 45
        }
      ]
    },
    {
      "cell_type": "markdown",
      "source": [
        "슬라이싱으로 문자열 나누기"
      ],
      "metadata": {
        "id": "kKElQKVNvlF4"
      }
    },
    {
      "cell_type": "code",
      "source": [
        "a=\"20010331Rainy\""
      ],
      "metadata": {
        "id": "0ZjU-DGKvjj_"
      },
      "execution_count": null,
      "outputs": []
    },
    {
      "cell_type": "code",
      "source": [
        "date=a[:8]\n",
        "weather=a[8:]"
      ],
      "metadata": {
        "id": "Io3lAqf6vpeO"
      },
      "execution_count": null,
      "outputs": []
    },
    {
      "cell_type": "code",
      "source": [
        "date"
      ],
      "metadata": {
        "colab": {
          "base_uri": "https://localhost:8080/",
          "height": 35
        },
        "id": "A9CftM3Qvr__",
        "outputId": "ec4abe60-908b-4cea-fb57-a8492f99c493"
      },
      "execution_count": null,
      "outputs": [
        {
          "output_type": "execute_result",
          "data": {
            "application/vnd.google.colaboratory.intrinsic+json": {
              "type": "string"
            },
            "text/plain": [
              "'20010331'"
            ]
          },
          "metadata": {},
          "execution_count": 50
        }
      ]
    },
    {
      "cell_type": "code",
      "source": [
        "weather"
      ],
      "metadata": {
        "colab": {
          "base_uri": "https://localhost:8080/",
          "height": 35
        },
        "id": "KG8JK6xcvuQv",
        "outputId": "a7bf0ae6-8f94-4820-b5e4-00b97299c3c7"
      },
      "execution_count": null,
      "outputs": [
        {
          "output_type": "execute_result",
          "data": {
            "application/vnd.google.colaboratory.intrinsic+json": {
              "type": "string"
            },
            "text/plain": [
              "'Rainy'"
            ]
          },
          "metadata": {},
          "execution_count": 51
        }
      ]
    },
    {
      "cell_type": "markdown",
      "source": [
        "문자열 포매팅\n",
        "\n",
        "문자열에서 또 하나 알아야 할 것은 문자열 포매팅이다(Formating)\n",
        "\n",
        "숫자를 넣기 위해서는 %d를 쓰고, 문자열을 넣기 위해서는 %s를 쓴다"
      ],
      "metadata": {
        "id": "TC3p7sCnvyTU"
      }
    },
    {
      "cell_type": "code",
      "source": [
        "\"I eat %d apples.\"%3 #예전 방식"
      ],
      "metadata": {
        "colab": {
          "base_uri": "https://localhost:8080/",
          "height": 35
        },
        "id": "OAmvT4wQvu5b",
        "outputId": "f22e10d3-3050-409b-dc3d-679bcfdd6545"
      },
      "execution_count": null,
      "outputs": [
        {
          "output_type": "execute_result",
          "data": {
            "application/vnd.google.colaboratory.intrinsic+json": {
              "type": "string"
            },
            "text/plain": [
              "'I eat 3 apples.'"
            ]
          },
          "metadata": {},
          "execution_count": 52
        }
      ]
    },
    {
      "cell_type": "code",
      "source": [
        "\"I eat %s apples.\"%\"five\""
      ],
      "metadata": {
        "colab": {
          "base_uri": "https://localhost:8080/",
          "height": 35
        },
        "id": "NNlY38qIv_1C",
        "outputId": "ece6b29d-93d0-4a24-b244-d6447228caf5"
      },
      "execution_count": null,
      "outputs": [
        {
          "output_type": "execute_result",
          "data": {
            "application/vnd.google.colaboratory.intrinsic+json": {
              "type": "string"
            },
            "text/plain": [
              "'I eat five apples.'"
            ]
          },
          "metadata": {},
          "execution_count": 53
        }
      ]
    },
    {
      "cell_type": "code",
      "source": [
        "number=10\n",
        "day=\"three\"\n",
        "sentence=\"I ate %d apples. so I was sick for %s days.\""
      ],
      "metadata": {
        "id": "N-zagO_JwHeW"
      },
      "execution_count": null,
      "outputs": []
    },
    {
      "cell_type": "code",
      "source": [
        "sentence%(number,day)"
      ],
      "metadata": {
        "colab": {
          "base_uri": "https://localhost:8080/",
          "height": 35
        },
        "id": "G16QCZq-wa2i",
        "outputId": "f597af75-0a8e-4d2e-b4de-efda7d360b82"
      },
      "execution_count": null,
      "outputs": [
        {
          "output_type": "execute_result",
          "data": {
            "application/vnd.google.colaboratory.intrinsic+json": {
              "type": "string"
            },
            "text/plain": [
              "'I ate 10 apples. so I was sick for three days.'"
            ]
          },
          "metadata": {},
          "execution_count": 55
        }
      ]
    },
    {
      "cell_type": "code",
      "source": [
        "\"I eat {0} apples\".format(3) # 새로운 방식"
      ],
      "metadata": {
        "colab": {
          "base_uri": "https://localhost:8080/",
          "height": 35
        },
        "id": "aRtFK8h-wcyt",
        "outputId": "577db943-9348-4a38-b7ab-7549e606c53d"
      },
      "execution_count": null,
      "outputs": [
        {
          "output_type": "execute_result",
          "data": {
            "application/vnd.google.colaboratory.intrinsic+json": {
              "type": "string"
            },
            "text/plain": [
              "'I eat3 apples'"
            ]
          },
          "metadata": {},
          "execution_count": 56
        }
      ]
    },
    {
      "cell_type": "code",
      "source": [
        "\"I eat {0} apples\".format(\"five\")"
      ],
      "metadata": {
        "colab": {
          "base_uri": "https://localhost:8080/",
          "height": 35
        },
        "id": "fdeuED3rwlxL",
        "outputId": "e5dea5aa-dccd-4960-b1e1-a795a15f9508"
      },
      "execution_count": null,
      "outputs": [
        {
          "output_type": "execute_result",
          "data": {
            "application/vnd.google.colaboratory.intrinsic+json": {
              "type": "string"
            },
            "text/plain": [
              "'I eat five apples'"
            ]
          },
          "metadata": {},
          "execution_count": 57
        }
      ]
    },
    {
      "cell_type": "code",
      "source": [
        "\"I eat {} apples\".format(\"five\")"
      ],
      "metadata": {
        "colab": {
          "base_uri": "https://localhost:8080/",
          "height": 35
        },
        "id": "xSRLoRnlwsxT",
        "outputId": "43a02c09-0cbe-4c74-af39-fd2687e3da7a"
      },
      "execution_count": null,
      "outputs": [
        {
          "output_type": "execute_result",
          "data": {
            "application/vnd.google.colaboratory.intrinsic+json": {
              "type": "string"
            },
            "text/plain": [
              "'I eat five apples'"
            ]
          },
          "metadata": {},
          "execution_count": 58
        }
      ]
    },
    {
      "cell_type": "code",
      "source": [
        "\"I ate {number} apples. so I was sick for {day} days.\".format(number=10,day=3)"
      ],
      "metadata": {
        "colab": {
          "base_uri": "https://localhost:8080/",
          "height": 35
        },
        "id": "OCW4grXcwvxj",
        "outputId": "49b2c393-0c38-4f35-f7a5-3cd55f73d496"
      },
      "execution_count": null,
      "outputs": [
        {
          "output_type": "execute_result",
          "data": {
            "application/vnd.google.colaboratory.intrinsic+json": {
              "type": "string"
            },
            "text/plain": [
              "'I ate 10 apples. so I was sick for 3 days.'"
            ]
          },
          "metadata": {},
          "execution_count": 59
        }
      ]
    },
    {
      "cell_type": "markdown",
      "source": [
        "문자열과 관련 함수들\n",
        "\n",
        "양쪽 공백 지우기(strip)\n",
        "\n",
        "문자열 나누기(split)"
      ],
      "metadata": {
        "id": "DzyuRHkCw6_U"
      }
    },
    {
      "cell_type": "code",
      "source": [
        "# strip\n",
        "a=\"hi\"\n",
        "a.strip()"
      ],
      "metadata": {
        "colab": {
          "base_uri": "https://localhost:8080/",
          "height": 35
        },
        "id": "atJwvRNxw3Vn",
        "outputId": "a0c6e744-2126-46ee-e407-b996707cc686"
      },
      "execution_count": null,
      "outputs": [
        {
          "output_type": "execute_result",
          "data": {
            "application/vnd.google.colaboratory.intrinsic+json": {
              "type": "string"
            },
            "text/plain": [
              "'hi'"
            ]
          },
          "metadata": {},
          "execution_count": 60
        }
      ]
    },
    {
      "cell_type": "code",
      "source": [
        "#split\n",
        "a=\"Life is too short\"\n",
        "a.split()"
      ],
      "metadata": {
        "colab": {
          "base_uri": "https://localhost:8080/"
        },
        "id": "bKGcajZtxEyR",
        "outputId": "6746d46a-62ec-49c1-f65e-59c9bee99d52"
      },
      "execution_count": null,
      "outputs": [
        {
          "output_type": "execute_result",
          "data": {
            "text/plain": [
              "['Life', 'is', 'too', 'short']"
            ]
          },
          "metadata": {},
          "execution_count": 61
        }
      ]
    },
    {
      "cell_type": "code",
      "source": [
        "a=\"a:b:c:d\"\n",
        "a.split(':')"
      ],
      "metadata": {
        "colab": {
          "base_uri": "https://localhost:8080/"
        },
        "id": "0UfGqMnAxI6l",
        "outputId": "b62657d5-8928-4550-ace9-907bed4c875c"
      },
      "execution_count": null,
      "outputs": [
        {
          "output_type": "execute_result",
          "data": {
            "text/plain": [
              "['a', 'b', 'c', 'd']"
            ]
          },
          "metadata": {},
          "execution_count": 63
        }
      ]
    },
    {
      "cell_type": "markdown",
      "source": [
        "### **리스트 자료형**\n",
        "\n",
        "숫자와 문자열을 알아봤는데 이 둘만으로 프로그래밍을 하기에는 부족한 점이 많다.\n",
        "\n",
        "숫자 모음을 숫자나 문자열로 표현하기 쉽지 않다.\n",
        "\n",
        "이러한 분편함을 해소할 수 있는 자료형이 존재한다\n",
        "\n",
        "이를 리스트라 한다"
      ],
      "metadata": {
        "id": "naBMipqXxOz-"
      }
    },
    {
      "cell_type": "code",
      "source": [
        "odd=[1,3,5,7,9]"
      ],
      "metadata": {
        "id": "GBB_Ym4qxLse"
      },
      "execution_count": null,
      "outputs": []
    },
    {
      "cell_type": "code",
      "source": [
        "odd"
      ],
      "metadata": {
        "colab": {
          "base_uri": "https://localhost:8080/"
        },
        "id": "81aZ5xkqxqCy",
        "outputId": "ebaf9d99-9347-45c5-de48-ee0d1e5a523b"
      },
      "execution_count": null,
      "outputs": [
        {
          "output_type": "execute_result",
          "data": {
            "text/plain": [
              "[1, 3, 5, 7, 9]"
            ]
          },
          "metadata": {},
          "execution_count": 65
        }
      ]
    },
    {
      "cell_type": "markdown",
      "source": [
        "리시트를 만들 때 위에서 처럼 대괄호로 감싸주고 각 요소값들은 쉼표로 구분해준다"
      ],
      "metadata": {
        "id": "oX8jt1nWxrlu"
      }
    },
    {
      "cell_type": "code",
      "source": [
        "# 리스트의 여러가지 모양\n",
        "a=[]\n",
        "b=[1,2,3]\n",
        "c=['Life','is','too','short']\n",
        "d=[1,2,'Life','is']\n",
        "e=[1,2,['Life','is']]"
      ],
      "metadata": {
        "id": "kh1obR-pxqha"
      },
      "execution_count": null,
      "outputs": []
    },
    {
      "cell_type": "markdown",
      "source": [
        "리스트의 인덱싱과 슬라이싱"
      ],
      "metadata": {
        "id": "Ujnt-SRryE2j"
      }
    },
    {
      "cell_type": "code",
      "source": [
        "# 인덱싱\n",
        "a=[1,2,3]\n",
        "a[0]"
      ],
      "metadata": {
        "colab": {
          "base_uri": "https://localhost:8080/"
        },
        "id": "PAlt4jVBx8Mc",
        "outputId": "4321a287-52c0-4bf0-ff96-e451e0caf31b"
      },
      "execution_count": null,
      "outputs": [
        {
          "output_type": "execute_result",
          "data": {
            "text/plain": [
              "1"
            ]
          },
          "metadata": {},
          "execution_count": 68
        }
      ]
    },
    {
      "cell_type": "code",
      "source": [
        "a[0] + a[2]"
      ],
      "metadata": {
        "colab": {
          "base_uri": "https://localhost:8080/"
        },
        "id": "Vn9wgUkdyI-Q",
        "outputId": "9b41ba3d-4a25-468e-e75f-118916abd5f2"
      },
      "execution_count": null,
      "outputs": [
        {
          "output_type": "execute_result",
          "data": {
            "text/plain": [
              "4"
            ]
          },
          "metadata": {},
          "execution_count": 70
        }
      ]
    },
    {
      "cell_type": "code",
      "source": [
        "a[-1]"
      ],
      "metadata": {
        "colab": {
          "base_uri": "https://localhost:8080/"
        },
        "id": "t-z3HEvryLnK",
        "outputId": "0fb6d74c-b6cf-4f04-fbd9-b29d1c2820d9"
      },
      "execution_count": null,
      "outputs": [
        {
          "output_type": "execute_result",
          "data": {
            "text/plain": [
              "3"
            ]
          },
          "metadata": {},
          "execution_count": 71
        }
      ]
    },
    {
      "cell_type": "code",
      "source": [
        "# 슬라이싱\n",
        "a=[1,2,3,4,5]\n",
        "a[0:2]"
      ],
      "metadata": {
        "colab": {
          "base_uri": "https://localhost:8080/"
        },
        "id": "dai5Dgy-yO-N",
        "outputId": "fd35e479-f2bb-449b-bd59-1bef7f1d4257"
      },
      "execution_count": null,
      "outputs": [
        {
          "output_type": "execute_result",
          "data": {
            "text/plain": [
              "[1, 2]"
            ]
          },
          "metadata": {},
          "execution_count": 72
        }
      ]
    },
    {
      "cell_type": "code",
      "source": [
        "a[2:]"
      ],
      "metadata": {
        "colab": {
          "base_uri": "https://localhost:8080/"
        },
        "id": "zB7Beu1pyW5n",
        "outputId": "8df0cb5d-d4a5-4fe6-c9b9-69b30fe44483"
      },
      "execution_count": null,
      "outputs": [
        {
          "output_type": "execute_result",
          "data": {
            "text/plain": [
              "[3, 4, 5]"
            ]
          },
          "metadata": {},
          "execution_count": 73
        }
      ]
    },
    {
      "cell_type": "markdown",
      "source": [
        "리스트에 연산자 사용하기"
      ],
      "metadata": {
        "id": "4jErgABqyajQ"
      }
    },
    {
      "cell_type": "code",
      "source": [
        "a=[1,2,3]\n",
        "b=[4,5,6]\n",
        "a+b"
      ],
      "metadata": {
        "colab": {
          "base_uri": "https://localhost:8080/"
        },
        "id": "iK8BfTnTyf-y",
        "outputId": "367ff898-a4e0-4b47-939c-184ae73d6924"
      },
      "execution_count": null,
      "outputs": [
        {
          "output_type": "execute_result",
          "data": {
            "text/plain": [
              "[1, 2, 3, 4, 5, 6]"
            ]
          },
          "metadata": {},
          "execution_count": 74
        }
      ]
    },
    {
      "cell_type": "markdown",
      "source": [
        "리스트 반복"
      ],
      "metadata": {
        "id": "5y_DKt36ykM7"
      }
    },
    {
      "cell_type": "code",
      "source": [
        "a=[1,2,3]\n",
        "a*3"
      ],
      "metadata": {
        "colab": {
          "base_uri": "https://localhost:8080/"
        },
        "id": "qQ2d4dFFyizg",
        "outputId": "cf472db6-e240-48d7-9322-60be3c4d136c"
      },
      "execution_count": null,
      "outputs": [
        {
          "output_type": "execute_result",
          "data": {
            "text/plain": [
              "[1, 2, 3, 1, 2, 3, 1, 2, 3]"
            ]
          },
          "metadata": {},
          "execution_count": 75
        }
      ]
    },
    {
      "cell_type": "markdown",
      "source": [
        "리스트 수정, 변경과 삭제"
      ],
      "metadata": {
        "id": "jsLA8dDcyoZ9"
      }
    },
    {
      "cell_type": "code",
      "source": [
        "a=[1,2,3]\n",
        "a[2]=4"
      ],
      "metadata": {
        "id": "QyLgomPKynhW"
      },
      "execution_count": null,
      "outputs": []
    },
    {
      "cell_type": "code",
      "source": [
        "a"
      ],
      "metadata": {
        "colab": {
          "base_uri": "https://localhost:8080/"
        },
        "id": "2uK7SVTbysW7",
        "outputId": "e6623348-f489-4485-b834-c6221d2a9da9"
      },
      "execution_count": null,
      "outputs": [
        {
          "output_type": "execute_result",
          "data": {
            "text/plain": [
              "[1, 2, 4]"
            ]
          },
          "metadata": {},
          "execution_count": 78
        }
      ]
    },
    {
      "cell_type": "code",
      "source": [
        "a=[1,2,3]\n",
        "del a[1]\n",
        "a"
      ],
      "metadata": {
        "colab": {
          "base_uri": "https://localhost:8080/"
        },
        "id": "ER2Br2Icys63",
        "outputId": "1e0c083f-4853-4948-e0d4-47e3b3e123c7"
      },
      "execution_count": null,
      "outputs": [
        {
          "output_type": "execute_result",
          "data": {
            "text/plain": [
              "[1, 3]"
            ]
          },
          "metadata": {},
          "execution_count": 79
        }
      ]
    },
    {
      "cell_type": "markdown",
      "source": [
        "리스트 관련 함수들\n",
        "\n",
        "문자열과 마찬가지로 리스트 변수명 뒤 '.'를 붙여서 여러가지 리스트 함수들을 이용할 수 있다"
      ],
      "metadata": {
        "id": "JMfxI0MDyzZ7"
      }
    },
    {
      "cell_type": "code",
      "source": [
        "# 리스트 요소 추가(append)\n",
        "a=[1,2,3]\n",
        "a.append(4)\n",
        "a"
      ],
      "metadata": {
        "colab": {
          "base_uri": "https://localhost:8080/"
        },
        "id": "h-WjkYICyyOm",
        "outputId": "c811d7f6-94dd-4617-c090-8f35e32a8401"
      },
      "execution_count": null,
      "outputs": [
        {
          "output_type": "execute_result",
          "data": {
            "text/plain": [
              "[1, 2, 3, 4]"
            ]
          },
          "metadata": {},
          "execution_count": 81
        }
      ]
    },
    {
      "cell_type": "code",
      "source": [
        "# 리스트 요소 삽입(insert)\n",
        "a=[1,2,3]\n",
        "a.insert(0,4)\n",
        "a"
      ],
      "metadata": {
        "colab": {
          "base_uri": "https://localhost:8080/"
        },
        "id": "TSO25MvSzC9E",
        "outputId": "315d23a1-dc86-4095-def3-aff7e3a97d12"
      },
      "execution_count": null,
      "outputs": [
        {
          "output_type": "execute_result",
          "data": {
            "text/plain": [
              "[4, 1, 2, 3]"
            ]
          },
          "metadata": {},
          "execution_count": 82
        }
      ]
    },
    {
      "cell_type": "code",
      "source": [
        "# 리스트 요소 끄집어내기(pop) #맨 마지막 요소를 돌려주고 그 요소는 삭제한다\n",
        "a=[1,2,3]\n",
        "a.pop()"
      ],
      "metadata": {
        "colab": {
          "base_uri": "https://localhost:8080/"
        },
        "id": "YWE7isXLzL4v",
        "outputId": "f8ae7f5f-b6e3-4b3b-ccdb-a5eb8b1f8e04"
      },
      "execution_count": null,
      "outputs": [
        {
          "output_type": "execute_result",
          "data": {
            "text/plain": [
              "3"
            ]
          },
          "metadata": {},
          "execution_count": 83
        }
      ]
    },
    {
      "cell_type": "code",
      "source": [
        "a"
      ],
      "metadata": {
        "colab": {
          "base_uri": "https://localhost:8080/"
        },
        "id": "6v-gN9bizUY4",
        "outputId": "53534130-55e5-4890-d956-342524dd1514"
      },
      "execution_count": null,
      "outputs": [
        {
          "output_type": "execute_result",
          "data": {
            "text/plain": [
              "[1, 2]"
            ]
          },
          "metadata": {},
          "execution_count": 85
        }
      ]
    },
    {
      "cell_type": "markdown",
      "source": [
        "### **튜플 자료형**\n",
        "\n",
        "리스트와 거의 유사하다 다른점이 몇가지 있다\n",
        "\n",
        "*리스트는[]으로 둘러싸지만 튜플은 ()으로 둘러싼다\n",
        "\n",
        "*리스트는 그 값의 생성, 삭제, 수정이 가능하지만 튜플은 그 값을 바꿀 수 **없다**\n"
      ],
      "metadata": {
        "id": "KXUMUMW9zbkZ"
      }
    },
    {
      "cell_type": "code",
      "source": [
        "# 튜플의 예시\n",
        "t1 = ()\n",
        "t2 = (1,)\n",
        "t3 = (1, 2, 3)\n",
        "t4 = 1, 2, 3\n",
        "t5 = ('a', 'b', ('ab', 'cd'))"
      ],
      "metadata": {
        "id": "XJFsxh2nzZBg"
      },
      "execution_count": null,
      "outputs": []
    },
    {
      "cell_type": "code",
      "source": [
        "# 요소값을 지우거나 변경하려고 하면?\n",
        "t1=(1,2,'a','b')\n",
        "del t1[0]"
      ],
      "metadata": {
        "colab": {
          "base_uri": "https://localhost:8080/",
          "height": 201
        },
        "id": "WwsXQaDezwp_",
        "outputId": "4aecd590-c61e-4184-9483-4074d7b5a364"
      },
      "execution_count": null,
      "outputs": [
        {
          "output_type": "error",
          "ename": "TypeError",
          "evalue": "ignored",
          "traceback": [
            "\u001b[0;31m---------------------------------------------------------------------------\u001b[0m",
            "\u001b[0;31mTypeError\u001b[0m                                 Traceback (most recent call last)",
            "\u001b[0;32m<ipython-input-87-9a4089571c98>\u001b[0m in \u001b[0;36m<module>\u001b[0;34m()\u001b[0m\n\u001b[1;32m      1\u001b[0m \u001b[0;31m# 요소값을 지우거나 변경하려고 하면?\u001b[0m\u001b[0;34m\u001b[0m\u001b[0;34m\u001b[0m\u001b[0;34m\u001b[0m\u001b[0m\n\u001b[1;32m      2\u001b[0m \u001b[0mt1\u001b[0m\u001b[0;34m=\u001b[0m\u001b[0;34m(\u001b[0m\u001b[0;36m1\u001b[0m\u001b[0;34m,\u001b[0m\u001b[0;36m2\u001b[0m\u001b[0;34m,\u001b[0m\u001b[0;34m'a'\u001b[0m\u001b[0;34m,\u001b[0m\u001b[0;34m'b'\u001b[0m\u001b[0;34m)\u001b[0m\u001b[0;34m\u001b[0m\u001b[0;34m\u001b[0m\u001b[0m\n\u001b[0;32m----> 3\u001b[0;31m \u001b[0;32mdel\u001b[0m \u001b[0mt1\u001b[0m\u001b[0;34m[\u001b[0m\u001b[0;36m0\u001b[0m\u001b[0;34m]\u001b[0m\u001b[0;34m\u001b[0m\u001b[0;34m\u001b[0m\u001b[0m\n\u001b[0m",
            "\u001b[0;31mTypeError\u001b[0m: 'tuple' object doesn't support item deletion"
          ]
        }
      ]
    },
    {
      "cell_type": "markdown",
      "source": [
        "튜플의 인덱싱과 슬라이싱, 더하기와 곱하기"
      ],
      "metadata": {
        "id": "K-eITwlE0CLW"
      }
    },
    {
      "cell_type": "code",
      "source": [
        "# 인덱싱\n",
        "t1[3]"
      ],
      "metadata": {
        "colab": {
          "base_uri": "https://localhost:8080/",
          "height": 35
        },
        "id": "XaYKY-miz_4J",
        "outputId": "f8b9be72-bec3-4510-b08f-da31103b9c15"
      },
      "execution_count": null,
      "outputs": [
        {
          "output_type": "execute_result",
          "data": {
            "application/vnd.google.colaboratory.intrinsic+json": {
              "type": "string"
            },
            "text/plain": [
              "'b'"
            ]
          },
          "metadata": {},
          "execution_count": 88
        }
      ]
    },
    {
      "cell_type": "code",
      "source": [
        "# 슬라이싱\n",
        "t1[1:]"
      ],
      "metadata": {
        "colab": {
          "base_uri": "https://localhost:8080/"
        },
        "id": "7C5-I5gx0ISw",
        "outputId": "b0833bd2-cc3f-4196-da7f-df7e9f46769f"
      },
      "execution_count": null,
      "outputs": [
        {
          "output_type": "execute_result",
          "data": {
            "text/plain": [
              "(2, 'a', 'b')"
            ]
          },
          "metadata": {},
          "execution_count": 89
        }
      ]
    },
    {
      "cell_type": "code",
      "source": [
        "# 더하기\n",
        "t2=(3,4)\n",
        "t1+t2"
      ],
      "metadata": {
        "colab": {
          "base_uri": "https://localhost:8080/"
        },
        "id": "1emBWlAS0MX9",
        "outputId": "4d5fdd5c-3685-44cc-cd3d-17615e106b1b"
      },
      "execution_count": null,
      "outputs": [
        {
          "output_type": "execute_result",
          "data": {
            "text/plain": [
              "(1, 2, 'a', 'b', 3, 4)"
            ]
          },
          "metadata": {},
          "execution_count": 90
        }
      ]
    },
    {
      "cell_type": "code",
      "source": [
        "# 곱하기\n",
        "t2*3"
      ],
      "metadata": {
        "colab": {
          "base_uri": "https://localhost:8080/"
        },
        "id": "Bv6R3IZY0Rh1",
        "outputId": "60e2527c-b1cd-46d5-ff29-91618b5f96fa"
      },
      "execution_count": null,
      "outputs": [
        {
          "output_type": "execute_result",
          "data": {
            "text/plain": [
              "(3, 4, 3, 4, 3, 4)"
            ]
          },
          "metadata": {},
          "execution_count": 91
        }
      ]
    },
    {
      "cell_type": "markdown",
      "source": [
        "딕셔너리 자료형\n",
        "\n",
        "딕셔너리는 key와 value라는 것을 한 쌍으로 갖는 자료형이다.\n",
        "\n",
        "리스트나 튜플처럼 순서(index)로 해당 요소값을 구하지 않고 key를 통해 value를 얻는다"
      ],
      "metadata": {
        "id": "LAemDzcV0WiP"
      }
    },
    {
      "cell_type": "code",
      "source": [
        "me={'name':'garry','email':'garry0125@gmail.com','birth':'0125'}"
      ],
      "metadata": {
        "id": "aUSDIY4X0VSL"
      },
      "execution_count": null,
      "outputs": []
    },
    {
      "cell_type": "code",
      "source": [
        "me"
      ],
      "metadata": {
        "colab": {
          "base_uri": "https://localhost:8080/"
        },
        "id": "W_9VfrPz00B5",
        "outputId": "041607b1-ef58-4cab-f8fd-26a224efd5f1"
      },
      "execution_count": null,
      "outputs": [
        {
          "output_type": "execute_result",
          "data": {
            "text/plain": [
              "{'birth': '0125', 'email': 'garry0125@gmail.com', 'name': 'garry'}"
            ]
          },
          "metadata": {},
          "execution_count": 93
        }
      ]
    },
    {
      "cell_type": "markdown",
      "source": [
        "key로는 문자열, 숫자 등이 들어갈 수 있다."
      ],
      "metadata": {
        "id": "Q-W1Xacn01W2"
      }
    },
    {
      "cell_type": "code",
      "source": [
        "a={1:'hi'}"
      ],
      "metadata": {
        "id": "iVd70Nmc00dw"
      },
      "execution_count": null,
      "outputs": []
    },
    {
      "cell_type": "code",
      "source": [
        "a[1]"
      ],
      "metadata": {
        "colab": {
          "base_uri": "https://localhost:8080/",
          "height": 35
        },
        "id": "oXGDqKId06ra",
        "outputId": "2874019c-4ed2-4528-a602-ba578e70caf1"
      },
      "execution_count": null,
      "outputs": [
        {
          "output_type": "execute_result",
          "data": {
            "application/vnd.google.colaboratory.intrinsic+json": {
              "type": "string"
            },
            "text/plain": [
              "'hi'"
            ]
          },
          "metadata": {},
          "execution_count": 95
        }
      ]
    },
    {
      "cell_type": "markdown",
      "source": [
        "value에 리스트도 넣을 수 있다"
      ],
      "metadata": {
        "id": "esW4f74Q09ie"
      }
    },
    {
      "cell_type": "code",
      "source": [
        "a={'1':[1,2,3]}\n",
        "a"
      ],
      "metadata": {
        "colab": {
          "base_uri": "https://localhost:8080/"
        },
        "id": "vRNz2Oqx07SF",
        "outputId": "96b34587-49b3-4c0f-c605-3bdf83e0ea51"
      },
      "execution_count": null,
      "outputs": [
        {
          "output_type": "execute_result",
          "data": {
            "text/plain": [
              "{'1': [1, 2, 3]}"
            ]
          },
          "metadata": {},
          "execution_count": 96
        }
      ]
    },
    {
      "cell_type": "markdown",
      "source": [
        "딕셔너리 쌍 추가, 삭제"
      ],
      "metadata": {
        "id": "zArw824k1CuX"
      }
    },
    {
      "cell_type": "code",
      "source": [
        "a={1:'a'}\n",
        "a[2]='b'\n",
        "a\n",
        "# 존재하지 않는 key에 새 value를 할당하면 간단하게 딕셔너리 쌍을 추가할 수 있다."
      ],
      "metadata": {
        "colab": {
          "base_uri": "https://localhost:8080/"
        },
        "id": "BlDGCFQe1BVB",
        "outputId": "877de1eb-ccb8-423f-8d21-8be5007e297e"
      },
      "execution_count": null,
      "outputs": [
        {
          "output_type": "execute_result",
          "data": {
            "text/plain": [
              "{1: 'a', 2: 'b'}"
            ]
          },
          "metadata": {},
          "execution_count": 97
        }
      ]
    },
    {
      "cell_type": "markdown",
      "source": [
        "딕셔너리 요소 삭제"
      ],
      "metadata": {
        "id": "H9s2M37Q1KgT"
      }
    },
    {
      "cell_type": "code",
      "source": [
        "del a[1]"
      ],
      "metadata": {
        "id": "h_Alb0EK1JRE"
      },
      "execution_count": null,
      "outputs": []
    },
    {
      "cell_type": "code",
      "source": [
        "a"
      ],
      "metadata": {
        "colab": {
          "base_uri": "https://localhost:8080/"
        },
        "id": "w5XaFVTP1S2H",
        "outputId": "3fcb4934-22c5-4968-fb41-aacfc2d0b07f"
      },
      "execution_count": null,
      "outputs": [
        {
          "output_type": "execute_result",
          "data": {
            "text/plain": [
              "{2: 'b'}"
            ]
          },
          "metadata": {},
          "execution_count": 99
        }
      ]
    },
    {
      "cell_type": "code",
      "source": [
        "# 딕셔너리에서 key를 사용해 value 얻기\n",
        "me"
      ],
      "metadata": {
        "colab": {
          "base_uri": "https://localhost:8080/"
        },
        "id": "HJ15l7hP1TPg",
        "outputId": "1965e214-f561-438e-aaa2-d29a1915a831"
      },
      "execution_count": null,
      "outputs": [
        {
          "output_type": "execute_result",
          "data": {
            "text/plain": [
              "{'birth': '0125', 'email': 'garry0125@gmail.com', 'name': 'garry'}"
            ]
          },
          "metadata": {},
          "execution_count": 100
        }
      ]
    },
    {
      "cell_type": "code",
      "source": [
        "me['name']"
      ],
      "metadata": {
        "colab": {
          "base_uri": "https://localhost:8080/",
          "height": 35
        },
        "id": "s-nrgWwL1Zxn",
        "outputId": "b5d38106-e476-481b-fdda-6e3e81bfe48b"
      },
      "execution_count": null,
      "outputs": [
        {
          "output_type": "execute_result",
          "data": {
            "application/vnd.google.colaboratory.intrinsic+json": {
              "type": "string"
            },
            "text/plain": [
              "'garry'"
            ]
          },
          "metadata": {},
          "execution_count": 101
        }
      ]
    },
    {
      "cell_type": "code",
      "source": [
        "me['email']"
      ],
      "metadata": {
        "colab": {
          "base_uri": "https://localhost:8080/",
          "height": 35
        },
        "id": "P8ni-u_t1bgT",
        "outputId": "c3abfc42-41d6-4c2f-b78a-abae6cbc5692"
      },
      "execution_count": null,
      "outputs": [
        {
          "output_type": "execute_result",
          "data": {
            "application/vnd.google.colaboratory.intrinsic+json": {
              "type": "string"
            },
            "text/plain": [
              "'garry0125@gmail.com'"
            ]
          },
          "metadata": {},
          "execution_count": 102
        }
      ]
    },
    {
      "cell_type": "markdown",
      "source": [
        "딕셔너리 주의사항\n",
        "\n",
        "key에 리스트는 쓸 수 없다\n",
        "튜플은 key로 쓸 수 있다."
      ],
      "metadata": {
        "id": "AROIJm-01gJc"
      }
    },
    {
      "cell_type": "code",
      "source": [
        "a={[1,2]:'hi'}"
      ],
      "metadata": {
        "colab": {
          "base_uri": "https://localhost:8080/",
          "height": 166
        },
        "id": "6aksRK-Z1dm0",
        "outputId": "d827e60d-2670-465c-f073-b55110b6faec"
      },
      "execution_count": null,
      "outputs": [
        {
          "output_type": "error",
          "ename": "TypeError",
          "evalue": "ignored",
          "traceback": [
            "\u001b[0;31m---------------------------------------------------------------------------\u001b[0m",
            "\u001b[0;31mTypeError\u001b[0m                                 Traceback (most recent call last)",
            "\u001b[0;32m<ipython-input-104-9b2293d523ba>\u001b[0m in \u001b[0;36m<module>\u001b[0;34m()\u001b[0m\n\u001b[0;32m----> 1\u001b[0;31m \u001b[0ma\u001b[0m\u001b[0;34m=\u001b[0m\u001b[0;34m{\u001b[0m\u001b[0;34m[\u001b[0m\u001b[0;36m1\u001b[0m\u001b[0;34m,\u001b[0m\u001b[0;36m2\u001b[0m\u001b[0;34m]\u001b[0m\u001b[0;34m:\u001b[0m\u001b[0;34m'hi'\u001b[0m\u001b[0;34m}\u001b[0m\u001b[0;34m\u001b[0m\u001b[0;34m\u001b[0m\u001b[0m\n\u001b[0m",
            "\u001b[0;31mTypeError\u001b[0m: unhashable type: 'list'"
          ]
        }
      ]
    },
    {
      "cell_type": "markdown",
      "source": [
        "딕셔너리 관련 함수"
      ],
      "metadata": {
        "id": "NtTz6VEb1yNA"
      }
    },
    {
      "cell_type": "code",
      "source": [
        "# key 리스트 만들기\n",
        "me"
      ],
      "metadata": {
        "colab": {
          "base_uri": "https://localhost:8080/"
        },
        "id": "1_LTvTZD1rGR",
        "outputId": "6be69568-ea32-4507-8f36-0f7d6d59a0b9"
      },
      "execution_count": null,
      "outputs": [
        {
          "output_type": "execute_result",
          "data": {
            "text/plain": [
              "{'birth': '0125', 'email': 'garry0125@gmail.com', 'name': 'garry'}"
            ]
          },
          "metadata": {},
          "execution_count": 107
        }
      ]
    },
    {
      "cell_type": "code",
      "source": [
        "me.keys()"
      ],
      "metadata": {
        "colab": {
          "base_uri": "https://localhost:8080/"
        },
        "id": "2Oa-1UOw13qA",
        "outputId": "2d8bc84a-bee1-442b-e5ac-301cf2f6a53c"
      },
      "execution_count": null,
      "outputs": [
        {
          "output_type": "execute_result",
          "data": {
            "text/plain": [
              "dict_keys(['name', 'email', 'birth'])"
            ]
          },
          "metadata": {},
          "execution_count": 108
        }
      ]
    },
    {
      "cell_type": "code",
      "source": [
        "list(me.keys())"
      ],
      "metadata": {
        "colab": {
          "base_uri": "https://localhost:8080/"
        },
        "id": "NsdAxFal16q7",
        "outputId": "9de4f202-e0bd-413f-c8f9-86536bd0588f"
      },
      "execution_count": null,
      "outputs": [
        {
          "output_type": "execute_result",
          "data": {
            "text/plain": [
              "['name', 'email', 'birth']"
            ]
          },
          "metadata": {},
          "execution_count": 109
        }
      ]
    },
    {
      "cell_type": "code",
      "source": [
        "#value 리스트 만들기\n",
        "me.values()"
      ],
      "metadata": {
        "colab": {
          "base_uri": "https://localhost:8080/"
        },
        "id": "99MCoYVk19bj",
        "outputId": "2cccc5a8-e4d2-470d-f08e-65fd88a4fdcf"
      },
      "execution_count": null,
      "outputs": [
        {
          "output_type": "execute_result",
          "data": {
            "text/plain": [
              "dict_values(['garry', 'garry0125@gmail.com', '0125'])"
            ]
          },
          "metadata": {},
          "execution_count": 110
        }
      ]
    },
    {
      "cell_type": "code",
      "source": [
        "list(me.values())"
      ],
      "metadata": {
        "colab": {
          "base_uri": "https://localhost:8080/"
        },
        "id": "0og6OgOj2CQS",
        "outputId": "2fcaef27-d3ed-4c39-f71b-ac0808356395"
      },
      "execution_count": null,
      "outputs": [
        {
          "output_type": "execute_result",
          "data": {
            "text/plain": [
              "['garry', 'garry0125@gmail.com', '0125']"
            ]
          },
          "metadata": {},
          "execution_count": 111
        }
      ]
    },
    {
      "cell_type": "code",
      "source": [
        "# key, value 쌍 얻기\n",
        "list(me.items())"
      ],
      "metadata": {
        "colab": {
          "base_uri": "https://localhost:8080/"
        },
        "id": "XMel0ljT2D7L",
        "outputId": "0c3464b5-2b81-471f-c263-08ccae4a7d2f"
      },
      "execution_count": null,
      "outputs": [
        {
          "output_type": "execute_result",
          "data": {
            "text/plain": [
              "[('name', 'garry'), ('email', 'garry0125@gmail.com'), ('birth', '0125')]"
            ]
          },
          "metadata": {},
          "execution_count": 112
        }
      ]
    },
    {
      "cell_type": "markdown",
      "source": [
        "### **집합 자료형**\n",
        "\n",
        "중괄호를 이용한것이 가장 직관적인 방법\n",
        "\n",
        "딕셔너리도 중괄호를 쓰지만 딕셔너리에는 콜론이 있는 반면 집합에는 콜론이 없다"
      ],
      "metadata": {
        "id": "zS_QLqeV2K_i"
      }
    },
    {
      "cell_type": "code",
      "source": [
        "s1={1,2,3}\n",
        "s1"
      ],
      "metadata": {
        "colab": {
          "base_uri": "https://localhost:8080/"
        },
        "id": "_qeHnQSO2J8E",
        "outputId": "35c922dc-ce01-4470-8dba-75e3eb39149c"
      },
      "execution_count": null,
      "outputs": [
        {
          "output_type": "execute_result",
          "data": {
            "text/plain": [
              "{1, 2, 3}"
            ]
          },
          "metadata": {},
          "execution_count": 113
        }
      ]
    },
    {
      "cell_type": "markdown",
      "source": [
        "집합 자료형의 특징\n",
        "\n",
        "*중복을 허용하지 않는다\n",
        "\n",
        "*순서가 없다(Unordered)"
      ],
      "metadata": {
        "id": "TZFEzgly2btK"
      }
    },
    {
      "cell_type": "code",
      "source": [
        "s1={1,2,3,4,5,6}\n",
        "s2={4,5,6,7,8,9}"
      ],
      "metadata": {
        "id": "AyeXC0Dg2YWL"
      },
      "execution_count": null,
      "outputs": []
    },
    {
      "cell_type": "code",
      "source": [
        "# 교집합\n",
        "s1&s2"
      ],
      "metadata": {
        "colab": {
          "base_uri": "https://localhost:8080/"
        },
        "id": "GAieIIY12lav",
        "outputId": "47662540-2604-438d-fc39-9d5527da1bb4"
      },
      "execution_count": null,
      "outputs": [
        {
          "output_type": "execute_result",
          "data": {
            "text/plain": [
              "{4, 5, 6}"
            ]
          },
          "metadata": {},
          "execution_count": 115
        }
      ]
    },
    {
      "cell_type": "code",
      "source": [
        "s1.intersection(s2)"
      ],
      "metadata": {
        "colab": {
          "base_uri": "https://localhost:8080/"
        },
        "id": "Vy2DuosM2py_",
        "outputId": "cdfd722c-3d91-46a7-9ced-4ed2a5ea6440"
      },
      "execution_count": null,
      "outputs": [
        {
          "output_type": "execute_result",
          "data": {
            "text/plain": [
              "{4, 5, 6}"
            ]
          },
          "metadata": {},
          "execution_count": 116
        }
      ]
    },
    {
      "cell_type": "code",
      "source": [
        "s2.intersection(s1)"
      ],
      "metadata": {
        "colab": {
          "base_uri": "https://localhost:8080/"
        },
        "id": "ubhkVbFw2tC5",
        "outputId": "39ed63f8-3687-4e28-d5ca-c6f91d82329f"
      },
      "execution_count": null,
      "outputs": [
        {
          "output_type": "execute_result",
          "data": {
            "text/plain": [
              "{4, 5, 6}"
            ]
          },
          "metadata": {},
          "execution_count": 117
        }
      ]
    },
    {
      "cell_type": "code",
      "source": [
        "# 합집합\n",
        "s1|s2"
      ],
      "metadata": {
        "colab": {
          "base_uri": "https://localhost:8080/"
        },
        "id": "AguMg0G_2vSB",
        "outputId": "d49546cf-63cb-422a-a30c-aacd2e6f44d5"
      },
      "execution_count": null,
      "outputs": [
        {
          "output_type": "execute_result",
          "data": {
            "text/plain": [
              "{1, 2, 3, 4, 5, 6, 7, 8, 9}"
            ]
          },
          "metadata": {},
          "execution_count": 118
        }
      ]
    },
    {
      "cell_type": "code",
      "source": [
        "s1.union(s2)"
      ],
      "metadata": {
        "colab": {
          "base_uri": "https://localhost:8080/"
        },
        "id": "9GsVxhpD2y5V",
        "outputId": "52140a00-292b-4c60-cfc7-68cb328f50e3"
      },
      "execution_count": null,
      "outputs": [
        {
          "output_type": "execute_result",
          "data": {
            "text/plain": [
              "{1, 2, 3, 4, 5, 6, 7, 8, 9}"
            ]
          },
          "metadata": {},
          "execution_count": 119
        }
      ]
    },
    {
      "cell_type": "code",
      "source": [
        "#차집합\n",
        "s1-s2"
      ],
      "metadata": {
        "colab": {
          "base_uri": "https://localhost:8080/"
        },
        "id": "urbcKmTQ20yC",
        "outputId": "c95c3ac3-1b59-46a2-de32-1dba0267c960"
      },
      "execution_count": null,
      "outputs": [
        {
          "output_type": "execute_result",
          "data": {
            "text/plain": [
              "{1, 2, 3}"
            ]
          },
          "metadata": {},
          "execution_count": 120
        }
      ]
    },
    {
      "cell_type": "code",
      "source": [
        "s2-s1"
      ],
      "metadata": {
        "colab": {
          "base_uri": "https://localhost:8080/"
        },
        "id": "tYz9r5bk24OL",
        "outputId": "4f26657c-cce8-483a-d415-66691332d028"
      },
      "execution_count": null,
      "outputs": [
        {
          "output_type": "execute_result",
          "data": {
            "text/plain": [
              "{7, 8, 9}"
            ]
          },
          "metadata": {},
          "execution_count": 121
        }
      ]
    },
    {
      "cell_type": "code",
      "source": [
        "s1.difference(s2)"
      ],
      "metadata": {
        "colab": {
          "base_uri": "https://localhost:8080/"
        },
        "id": "BQLvYy5d248x",
        "outputId": "1b2f426e-f98e-4b0d-ebe6-3a2ce3ea7cd2"
      },
      "execution_count": null,
      "outputs": [
        {
          "output_type": "execute_result",
          "data": {
            "text/plain": [
              "{1, 2, 3}"
            ]
          },
          "metadata": {},
          "execution_count": 122
        }
      ]
    },
    {
      "cell_type": "code",
      "source": [
        "# 유니크한 값만 뽑아오기\n",
        "a=[1,2,3,1,2,3,2,1,4]\n",
        "set(a)"
      ],
      "metadata": {
        "colab": {
          "base_uri": "https://localhost:8080/"
        },
        "id": "sWLgj_fg26nV",
        "outputId": "98227dc6-7b1d-41ac-dcc8-9f494464efde"
      },
      "execution_count": null,
      "outputs": [
        {
          "output_type": "execute_result",
          "data": {
            "text/plain": [
              "{1, 2, 3, 4}"
            ]
          },
          "metadata": {},
          "execution_count": 123
        }
      ]
    },
    {
      "cell_type": "markdown",
      "source": [
        "집합 자료형 관련 함수들"
      ],
      "metadata": {
        "id": "xS14cGow3IUR"
      }
    },
    {
      "cell_type": "code",
      "source": [
        "# 값 1개 추가히기\n",
        "s1={1,2,3}\n",
        "s1.add(4)\n",
        "s1"
      ],
      "metadata": {
        "colab": {
          "base_uri": "https://localhost:8080/"
        },
        "id": "fBfbnO4_29uS",
        "outputId": "081f4881-d168-4093-cc26-47710f18ed57"
      },
      "execution_count": null,
      "outputs": [
        {
          "output_type": "execute_result",
          "data": {
            "text/plain": [
              "{1, 2, 3, 4}"
            ]
          },
          "metadata": {},
          "execution_count": 124
        }
      ]
    },
    {
      "cell_type": "code",
      "source": [
        "# 값 여러개 추가하기\n",
        "s1={1,2,3}\n",
        "s1.update([4,5,6])\n",
        "s1"
      ],
      "metadata": {
        "colab": {
          "base_uri": "https://localhost:8080/"
        },
        "id": "Isqlqv0u3O8C",
        "outputId": "9c3ed9d9-95c5-44e8-be1b-447c163809bd"
      },
      "execution_count": null,
      "outputs": [
        {
          "output_type": "execute_result",
          "data": {
            "text/plain": [
              "{1, 2, 3, 4, 5, 6}"
            ]
          },
          "metadata": {},
          "execution_count": 126
        }
      ]
    },
    {
      "cell_type": "code",
      "source": [
        "# 특정 값 제거하기\n",
        "s1={1,2,3}\n",
        "s1.remove(2)\n",
        "s1"
      ],
      "metadata": {
        "colab": {
          "base_uri": "https://localhost:8080/"
        },
        "id": "kPnpHBVh3Wfs",
        "outputId": "a6f3e97f-68e7-479e-a106-fc6090fe09d3"
      },
      "execution_count": null,
      "outputs": [
        {
          "output_type": "execute_result",
          "data": {
            "text/plain": [
              "{1, 3}"
            ]
          },
          "metadata": {},
          "execution_count": 128
        }
      ]
    },
    {
      "cell_type": "markdown",
      "source": [
        "### **그 밖의 자료형**"
      ],
      "metadata": {
        "id": "G8qGgVbS3e_2"
      }
    },
    {
      "cell_type": "markdown",
      "source": [
        "참과 거짓"
      ],
      "metadata": {
        "id": "3C1Ed-JC3lR0"
      }
    },
    {
      "cell_type": "code",
      "source": [
        "3>2"
      ],
      "metadata": {
        "colab": {
          "base_uri": "https://localhost:8080/"
        },
        "id": "sn-ZIrFU3ctn",
        "outputId": "20d71b3d-6390-4849-f639-7b2756bca47f"
      },
      "execution_count": null,
      "outputs": [
        {
          "output_type": "execute_result",
          "data": {
            "text/plain": [
              "True"
            ]
          },
          "metadata": {},
          "execution_count": 129
        }
      ]
    },
    {
      "cell_type": "code",
      "source": [
        "4>7"
      ],
      "metadata": {
        "colab": {
          "base_uri": "https://localhost:8080/"
        },
        "id": "nOszzZHx3n_8",
        "outputId": "d4600635-69ad-40ba-c89a-03792824e46e"
      },
      "execution_count": null,
      "outputs": [
        {
          "output_type": "execute_result",
          "data": {
            "text/plain": [
              "False"
            ]
          },
          "metadata": {},
          "execution_count": 130
        }
      ]
    },
    {
      "cell_type": "code",
      "source": [
        "a=[1,2,3]\n",
        "3 in a"
      ],
      "metadata": {
        "colab": {
          "base_uri": "https://localhost:8080/"
        },
        "id": "BYFKK9J-3opg",
        "outputId": "004f725f-d8ef-42c1-ae60-920c9e0ca732"
      },
      "execution_count": null,
      "outputs": [
        {
          "output_type": "execute_result",
          "data": {
            "text/plain": [
              "True"
            ]
          },
          "metadata": {},
          "execution_count": 131
        }
      ]
    },
    {
      "cell_type": "code",
      "source": [
        "a=('a','b','c')\n",
        "'d' in a"
      ],
      "metadata": {
        "colab": {
          "base_uri": "https://localhost:8080/"
        },
        "id": "XrWj8GzZ3r6S",
        "outputId": "917cc94f-ba3b-474d-f3cd-780a708c5e70"
      },
      "execution_count": null,
      "outputs": [
        {
          "output_type": "execute_result",
          "data": {
            "text/plain": [
              "False"
            ]
          },
          "metadata": {},
          "execution_count": 132
        }
      ]
    },
    {
      "cell_type": "code",
      "source": [
        "me"
      ],
      "metadata": {
        "colab": {
          "base_uri": "https://localhost:8080/"
        },
        "id": "K4pBaaPu3vd2",
        "outputId": "89a4d732-245c-4d43-93c6-62cedcbe7142"
      },
      "execution_count": null,
      "outputs": [
        {
          "output_type": "execute_result",
          "data": {
            "text/plain": [
              "{'birth': '0125', 'email': 'garry0125@gmail.com', 'name': 'garry'}"
            ]
          },
          "metadata": {},
          "execution_count": 133
        }
      ]
    },
    {
      "cell_type": "code",
      "source": [
        "'name' in me"
      ],
      "metadata": {
        "colab": {
          "base_uri": "https://localhost:8080/"
        },
        "id": "QzLT78ef3wi0",
        "outputId": "009429e9-b848-4148-f39d-1b37d44be36e"
      },
      "execution_count": null,
      "outputs": [
        {
          "output_type": "execute_result",
          "data": {
            "text/plain": [
              "True"
            ]
          },
          "metadata": {},
          "execution_count": 134
        }
      ]
    },
    {
      "cell_type": "code",
      "source": [
        "'john' in me"
      ],
      "metadata": {
        "colab": {
          "base_uri": "https://localhost:8080/"
        },
        "id": "c5NQUzv23yoV",
        "outputId": "f979f29f-f22b-4084-8be1-b6ac0fc187ce"
      },
      "execution_count": null,
      "outputs": [
        {
          "output_type": "execute_result",
          "data": {
            "text/plain": [
              "False"
            ]
          },
          "metadata": {},
          "execution_count": 135
        }
      ]
    },
    {
      "cell_type": "markdown",
      "source": [
        "존재하지 않음\n",
        "\n",
        "데이터에서 측정이 안된 값 등을 나타내는 데 유용하게 사용"
      ],
      "metadata": {
        "id": "2gvnqxVW34Gl"
      }
    },
    {
      "cell_type": "code",
      "source": [
        "None"
      ],
      "metadata": {
        "id": "UYmarUPG30YH"
      },
      "execution_count": null,
      "outputs": []
    },
    {
      "cell_type": "markdown",
      "source": [
        "### **형 변환**\n",
        "\n",
        "내장 함수를 이용해 한 자료형에서 다른 자료형으로 형 변환이 가능"
      ],
      "metadata": {
        "id": "FrpFXeyP4Box"
      }
    },
    {
      "cell_type": "code",
      "source": [
        "a='3'\n",
        "int(a)"
      ],
      "metadata": {
        "colab": {
          "base_uri": "https://localhost:8080/"
        },
        "id": "GKkfXeS_4DWo",
        "outputId": "ada91f2e-6d01-459b-d3b1-77697355628b"
      },
      "execution_count": null,
      "outputs": [
        {
          "output_type": "execute_result",
          "data": {
            "text/plain": [
              "3"
            ]
          },
          "metadata": {},
          "execution_count": 136
        }
      ]
    },
    {
      "cell_type": "code",
      "source": [
        "t={'a','b','c','d','e','f'}\n",
        "list(t)"
      ],
      "metadata": {
        "colab": {
          "base_uri": "https://localhost:8080/"
        },
        "id": "MpV4e3P84I6f",
        "outputId": "a80855ad-be00-47e3-f911-97af2c6f698d"
      },
      "execution_count": null,
      "outputs": [
        {
          "output_type": "execute_result",
          "data": {
            "text/plain": [
              "['e', 'a', 'b', 'd', 'c', 'f']"
            ]
          },
          "metadata": {},
          "execution_count": 137
        }
      ]
    },
    {
      "cell_type": "code",
      "source": [
        "a=57\n",
        "str(a)"
      ],
      "metadata": {
        "colab": {
          "base_uri": "https://localhost:8080/",
          "height": 35
        },
        "id": "zEdWlGTb4NWn",
        "outputId": "6a242715-32cb-4e60-c16d-c2d6886130ac"
      },
      "execution_count": null,
      "outputs": [
        {
          "output_type": "execute_result",
          "data": {
            "application/vnd.google.colaboratory.intrinsic+json": {
              "type": "string"
            },
            "text/plain": [
              "'57'"
            ]
          },
          "metadata": {},
          "execution_count": 138
        }
      ]
    },
    {
      "cell_type": "code",
      "source": [
        "# 아래 알파벡 집단에서 서로 다른 알파벳의 개수는?\n",
        "l=['A', 'C', 'S', 'D', 'F', 'A', 'S', 'F', 'D', 'A']"
      ],
      "metadata": {
        "id": "KBdZjD0E4Pv2"
      },
      "execution_count": null,
      "outputs": []
    },
    {
      "cell_type": "code",
      "source": [
        "len(set(l))"
      ],
      "metadata": {
        "colab": {
          "base_uri": "https://localhost:8080/"
        },
        "id": "evbDBKJD4Tcl",
        "outputId": "adaa1e77-a247-4efe-ed89-ea2fcdae271a"
      },
      "execution_count": null,
      "outputs": [
        {
          "output_type": "execute_result",
          "data": {
            "text/plain": [
              "5"
            ]
          },
          "metadata": {},
          "execution_count": 140
        }
      ]
    },
    {
      "cell_type": "markdown",
      "source": [
        "### **형 확인**"
      ],
      "metadata": {
        "id": "lKPBZU154bSS"
      }
    },
    {
      "cell_type": "code",
      "source": [
        "a=4\n",
        "type(a)"
      ],
      "metadata": {
        "colab": {
          "base_uri": "https://localhost:8080/"
        },
        "id": "eaYJAYpi4U3g",
        "outputId": "6be87fbb-5da0-4fac-c96c-4389d51de32f"
      },
      "execution_count": null,
      "outputs": [
        {
          "output_type": "execute_result",
          "data": {
            "text/plain": [
              "int"
            ]
          },
          "metadata": {},
          "execution_count": 141
        }
      ]
    },
    {
      "cell_type": "code",
      "source": [
        "a=[1,2,3]\n",
        "type(a)"
      ],
      "metadata": {
        "id": "IQL2Awe04eyC",
        "outputId": "1b52ef47-f15c-43e8-bba4-74959c7c1e4a",
        "colab": {
          "base_uri": "https://localhost:8080/"
        }
      },
      "execution_count": null,
      "outputs": [
        {
          "output_type": "execute_result",
          "data": {
            "text/plain": [
              "list"
            ]
          },
          "metadata": {},
          "execution_count": 142
        }
      ]
    },
    {
      "cell_type": "code",
      "source": [
        ""
      ],
      "metadata": {
        "id": "A1OxbFql4g4S"
      },
      "execution_count": null,
      "outputs": []
    }
  ]
}