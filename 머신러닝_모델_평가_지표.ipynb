{
  "nbformat": 4,
  "nbformat_minor": 0,
  "metadata": {
    "colab": {
      "name": "머신러닝 모델 평가 지표.ipynb",
      "provenance": []
    },
    "kernelspec": {
      "name": "python3",
      "display_name": "Python 3"
    },
    "language_info": {
      "name": "python"
    },
    "accelerator": "GPU"
  },
  "cells": [
    {
      "cell_type": "markdown",
      "source": [
        "# **분류 성능 평가**\n",
        "\n",
        "분류 문제에는 다양한 성능 평가 기준이 있다."
      ],
      "metadata": {
        "id": "ymlr-ZMU-Eeh"
      }
    },
    {
      "cell_type": "markdown",
      "source": [
        "## **Scikit-Learn에서 지원하는 분류 성능 평가 명령**\n",
        "\n",
        "\n",
        "\n",
        "*   sklearn.metrics 서브 패키지\n",
        "\n",
        " *  confusion_matrix()\n",
        " *  classfication_report()\n",
        " *   accuracy_score(y_true,y_pred)\n",
        " *   precision_score(y_ture,y_pred)\n",
        " *   recall_score(y_ture,y_pred)\n",
        " *   fbeta_score(y_ture,y_pred)\n",
        " *   f1_score(y_ture,y_pred)"
      ],
      "metadata": {
        "id": "r6E3IYqr-Muq"
      }
    },
    {
      "cell_type": "markdown",
      "source": [
        "## **분류 결과표 (Confusion Matrix)**\n",
        "분류 결과표는 타겟의 원래 클래스와 모형이 예측한 클래스가 일치하는지는 갯수로 센 결과이다.\n",
        "\n",
        "원래 클래스는 행(row)으로 예측한 클래스는 열(column)로 나타낸다.\n",
        "\n",
        "| | 예측 클래스 0 | 예측 클래스 1 | 예측 클래스 2 | \n",
        "|-|-|-|-|\n",
        "| 원 클래스 0 | <small>원 클래스가 0, 예측 클래스가 0인 표본의 수</small> | <small>원 클래스가 0, 예측 클래스가 1인 표본의 수</small> | <small>원 클래스가 0, 예측 클래스가 2인 표본의 수</small> |\n",
        "| 원 클래스 1 | <small>원 클래스가 1, 예측 클래스가 0인 표본의 수</small> | <small>원 클래스가 1, 예측 클래스가 1인 표본의 수</small> | <small>원 클래스가 1, 예측 클래스가 2인 표본의 수</small> |\n",
        "| 원 클래스 2 | <small>원 클래스가 2, 예측 클래스가 0인 표본의 수</small> | <small>원 클래스가 2, 예측 클래스가 1인 표본의 수</small> | <small>원 클래스가 2, 예측 클래스가 2인 표본의 수</small> |"
      ],
      "metadata": {
        "id": "_6Yj_xiJQn9y"
      }
    },
    {
      "cell_type": "code",
      "execution_count": 23,
      "metadata": {
        "id": "KC7oD2oV919I"
      },
      "outputs": [],
      "source": [
        "from sklearn.metrics import confusion_matrix"
      ]
    },
    {
      "cell_type": "code",
      "source": [
        "y_true=[2,0,2,2,0,1]\n",
        "y_pred=[0,0,2,2,0,2]\n",
        "confusion_matrix(y_true,y_pred)"
      ],
      "metadata": {
        "colab": {
          "base_uri": "https://localhost:8080/"
        },
        "id": "Z-dIF1DMRK9j",
        "outputId": "8a74e933-94b5-4775-85c2-8e1de7ab4515"
      },
      "execution_count": 24,
      "outputs": [
        {
          "output_type": "execute_result",
          "data": {
            "text/plain": [
              "array([[2, 0, 0],\n",
              "       [0, 0, 1],\n",
              "       [1, 0, 2]])"
            ]
          },
          "metadata": {},
          "execution_count": 24
        }
      ]
    },
    {
      "cell_type": "code",
      "source": [
        "y_ture=[\"cat\",\"ant\",\"cat\",\"cat\",\"ant\",\"bird\"]\n",
        "y_pred=[\"ant\",\"ant\",\"cat\",\"cat\",\"ant\",\"cat\"]\n",
        "confusion_matrix(y_ture,y_pred,labels=[\"ant\",\"bird\",\"cat\"])"
      ],
      "metadata": {
        "colab": {
          "base_uri": "https://localhost:8080/"
        },
        "id": "WtjHe7odRU6h",
        "outputId": "7922b52e-0b35-45fe-a882-83763108ccb9"
      },
      "execution_count": 25,
      "outputs": [
        {
          "output_type": "execute_result",
          "data": {
            "text/plain": [
              "array([[2, 0, 0],\n",
              "       [0, 0, 1],\n",
              "       [1, 0, 2]])"
            ]
          },
          "metadata": {},
          "execution_count": 25
        }
      ]
    },
    {
      "cell_type": "markdown",
      "source": [
        "## **이진 분류 결과표(Bianry Confusion Matrix)**\n",
        "\n",
        "클래스가 0과1 두 종류 밖에 없는 경우에는 일반적으로 클래스 이름을 \"Positive\"와 \"Negative\"로 표시한다.\n",
        "\n",
        "또, 분류 모형의 예측 결과가 맞는 경우, 즉 Positive를 Negative라고 예측하거나 Negative를 Positive라고 예측한 경우에는 \"False\"라고 한다.\n",
        "\n",
        "이 경우 이진 분류 결과의 명칭과 결과표는 다음과 같다.\n",
        "\n",
        "| | Positive라고 예측  | Negative라고 예측 | \n",
        "|-|-|-|\n",
        "| 실제 Positive | True Positive   |  False Negative |             \n",
        "| 실제 Negative | False Positive  |  True Negative  |   "
      ],
      "metadata": {
        "id": "nthY3FqGRmyC"
      }
    },
    {
      "cell_type": "markdown",
      "source": [
        "### **FDS(Fraud Detection System)의 예**\n",
        "\n",
        "FBS(Fraud Detection System)는 금융 거래, 회계 장부 등에서 잘못된 거래, 사기 거래를 찾아내는 시스템을 말한다. FDS의 예측 결과가 Positive이면 사기 거래라고 예측한 것이고 Negative이면 정상거래라고 예측한 것이다. 이 결과가 사실과 일치하는지 틀리는지에 따라 다음과 같이 말한다.\n",
        "\n",
        "* True Positive: 사기를 사기라고 정확하게 예측\n",
        "* True Negative: 정상을 정상이라고 정확하게 예측\n",
        "* False Positive: 정상을 사기라고 잘못 예측\n",
        "* False Negative: 사기를 정상이라고 잘못 예측\n",
        "\n",
        "|                     | 사기 거래라고 예측                | 정상 거래라고 예측                         | \n",
        "| --------------------| ------------------------ | --------------------------------- |\n",
        "| 실제로 사기 거래  | True Positive            |  False Negative                   |             \n",
        "| 실제로 정상 거래  | False Positive            |  True Negative                    |   "
      ],
      "metadata": {
        "id": "eptmcT-2UHrf"
      }
    },
    {
      "cell_type": "markdown",
      "source": [
        "## **평가 스코어**\n",
        "\n",
        "**Accuracy 정확도**\n",
        "\n",
        "\n",
        "*   전체 샘플 중 출력한 샘플 수의 비율\n",
        "\n",
        "$$\\text{accuracy} = \\dfrac{TP + TN}{TP + TN + FP + FN}$$\n"
      ],
      "metadata": {
        "id": "TRh_8RUCUlrd"
      }
    },
    {
      "cell_type": "markdown",
      "source": [
        "**Precision 정밀도**\n",
        "\n",
        "\n",
        "*   클래스에 속한다고 출력한 샘플 중 실제로 클래스에 속하는 샘풀 수의 비율\n",
        "*   FDS의 경우, 사기 거래라고 판단한 거래 중 실제 사기 거래의 비율. (유죄율)\n",
        "\n",
        "$$\\text{precision} = \\dfrac{TP}{TP + FP}$$"
      ],
      "metadata": {
        "id": "Q2GAXpEsU0Pl"
      }
    },
    {
      "cell_type": "markdown",
      "source": [
        "**Recall 재현율**\n",
        "\n",
        "\n",
        "*   TPR: true positive rate\n",
        "\n",
        "*   실제 클래스에 속한 샘풀 중에 클래스에 속한다고 출력한 샘플의 수\n",
        "*   FDS의 경우, 실제 사기 거래 중에서 실제 사기 거래라고 예측한 거래의 비율.(검거율)\n",
        "\n",
        "\n",
        "*   sensitivy(민감도)\n",
        "\n",
        "$$\\text{recall} = \\dfrac{TP}{TP + FN}$$"
      ],
      "metadata": {
        "id": "vTgv05xxVNae"
      }
    },
    {
      "cell_type": "markdown",
      "source": [
        "**Fall-Out**\n",
        "\n",
        "\n",
        "\n",
        "*   FDR: false positive rate\n",
        "*   실제 클래스에 속하지 않는 샘플 중에 클래스에 속한다고 출력한 샘플 수\n",
        "\n",
        "*   FDS의 경우, 실제 정상 거래 중에서 FDS가 사기 거래라고 예측한 거래의 비율, 원죄(寃罪)율\n",
        "\n",
        "$$\\text{fallout} = \\dfrac{FP}{FP + TN}$$"
      ],
      "metadata": {
        "id": "FTsa8JhbVryg"
      }
    },
    {
      "cell_type": "markdown",
      "source": [
        "**F(beta)score**\n",
        "\n",
        "\n",
        "*   정밀도(Precision)과 재현율(Recall)의 가중 조화 평균\n",
        "\n",
        "$$\n",
        "F_\\beta = (1 + \\beta^2) \\, ({\\text{precision} \\times \\text{recall}}) \\, / \\, ({\\beta^2 \\, \\text{precision} + \\text{recall}})\n",
        "$$\n",
        "\n",
        "*   F1 Score\n",
        " * beta = 1 \n",
        "\n",
        "$$\n",
        "F_1 = 2 \\cdot \\text{precision} \\cdot \\text{recall} \\, / \\, (\\text{precision} + \\text{recall})\n",
        "$$\n",
        "\n"
      ],
      "metadata": {
        "id": "i2GBXYFsZdP0"
      }
    },
    {
      "cell_type": "code",
      "source": [
        "from sklearn.metrics import classification_report"
      ],
      "metadata": {
        "id": "ii9nZAA9Rl1r"
      },
      "execution_count": 26,
      "outputs": []
    },
    {
      "cell_type": "code",
      "source": [
        "y_true=[0,1,2,2,2]\n",
        "y_pred=[0,0,2,2,1]\n",
        "target_names=['class 0','class 1','class 2']\n",
        "print(classification_report(y_true,y_pred,target_names=target_names))"
      ],
      "metadata": {
        "colab": {
          "base_uri": "https://localhost:8080/"
        },
        "id": "ye4eftBqZzNQ",
        "outputId": "6f02e0c4-a620-4cf6-e1a1-ff2eb7ce7217"
      },
      "execution_count": 27,
      "outputs": [
        {
          "output_type": "stream",
          "name": "stdout",
          "text": [
            "              precision    recall  f1-score   support\n",
            "\n",
            "     class 0       0.50      1.00      0.67         1\n",
            "     class 1       0.00      0.00      0.00         1\n",
            "     class 2       1.00      0.67      0.80         3\n",
            "\n",
            "    accuracy                           0.60         5\n",
            "   macro avg       0.50      0.56      0.49         5\n",
            "weighted avg       0.70      0.60      0.61         5\n",
            "\n"
          ]
        }
      ]
    },
    {
      "cell_type": "code",
      "source": [
        "y_true=[\"cat\",\"ant\",\"cat\",\"cat\",\"ant\",\"bird\",\"bird\"]\n",
        "y_pred=[\"ant\",\"ant\",\"cat\",\"cat\",\"ant\",\"cat\",\"bird\"]\n",
        "print(classification_report(y_true,y_pred,target_names=[\"ant\",\"bird\",\"cat\"]))"
      ],
      "metadata": {
        "colab": {
          "base_uri": "https://localhost:8080/"
        },
        "id": "egGRxQlIbTr2",
        "outputId": "770cf352-fe83-42c9-ad5a-243d3684285d"
      },
      "execution_count": 28,
      "outputs": [
        {
          "output_type": "stream",
          "name": "stdout",
          "text": [
            "              precision    recall  f1-score   support\n",
            "\n",
            "         ant       0.67      1.00      0.80         2\n",
            "        bird       1.00      0.50      0.67         2\n",
            "         cat       0.67      0.67      0.67         3\n",
            "\n",
            "    accuracy                           0.71         7\n",
            "   macro avg       0.78      0.72      0.71         7\n",
            "weighted avg       0.76      0.71      0.70         7\n",
            "\n"
          ]
        }
      ]
    },
    {
      "cell_type": "markdown",
      "source": [
        "## **ROC 커브**\n",
        "\n",
        "ROC(Receiver Operator Characteristic) 커브는 클래스 판별 기준값의 변화에 따른 Fall-out과 Recall의 변화를 시각화한 것이다.\n",
        "\n",
        "모든 이진 분류 모형은 판별 평면으로부터의 거리에 해당하는 판별 함수(discriminant function)를 가지며 판별 함수 값이 음수이면 0인 클래스, 양수이면 1인 클래스에 해당한다고 판별한다. 즉 0이 클래스 판별 기준 값이 된다. ROC 커브는 이 클래스 판별 기준값이 달라진다면 판별 결과가 어떻게 달라지는지는 표현한 것이다.\n",
        "\n",
        "Scikit_Learn의 Classification 클래스는 판별 함수 값을 계산하는 decision_function메서드를 제공한다. ROC커브는 이 판별 함수 값을 이용하여 다음과 같이 작성한다\n",
        "\n",
        "1.   모든 표본 데이터에 대해 판별 함수 값을 계산한다\n",
        "\n",
        "2.   계산된 판별 함수 값을 정렬한다\n",
        "3.   만약 0이 아닌 가장 작은 판별 함수값을 클래스 구분 기준값으로 하면 모든 표본은 클래스1 (Positive)이 된다. 이때 Fall-out과 Recall을 계산하면 Recall과 Fall-out모두 1이 된다.\n",
        "\n",
        "\n",
        "4.   두번째로 작은 판별 함수값을 클래스 구분 기준값으로 하면 판별 함수 값이 가장 작은 표본 1개를 제외하고 나머지 표본은 클래스 1(Positive)이 된다. 마찬가지로 이 때의 Fall-Out과 Recall을 계산하여 기록한다.\n",
        "\n",
        "5.   가장 큰 판별 함수값이 클래스 구분 기준값이 될 때까지 이를 반복한다. 이때는 모든 표본이 클래스 0(Negative)으로 판별되며 Recall과 Fall-Out이 모두 0이 된다."
      ],
      "metadata": {
        "id": "TlWuVNvwbzVR"
      }
    },
    {
      "cell_type": "markdown",
      "source": [
        "일반적으로 클래스 판별 기준이 변화함에 따라 Recall과 Fall-out은 같이 증가하거나 감소한다. Recall이 크고 Fall-Out이 작은 모형은 좋은 모형으로 생각할 수 있다."
      ],
      "metadata": {
        "id": "OvQbBSmPd_PF"
      }
    },
    {
      "cell_type": "code",
      "source": [
        "from sklearn.datasets import make_classification\n",
        "from sklearn.linear_model import LogisticRegression\n",
        "X,y=make_classification(n_features=1,n_redundant=0,n_informative=1,n_clusters_per_class=1,random_state=4)\n",
        "model=LogisticRegression().fit(X,y)"
      ],
      "metadata": {
        "id": "hRPreAvMbohw"
      },
      "execution_count": 29,
      "outputs": []
    },
    {
      "cell_type": "code",
      "source": [
        "print(confusion_matrix(y,model.predict(X)))"
      ],
      "metadata": {
        "colab": {
          "base_uri": "https://localhost:8080/"
        },
        "id": "fSwM-kgyevGj",
        "outputId": "be637250-58b8-4a9a-d2ef-831aad00e6c4"
      },
      "execution_count": 30,
      "outputs": [
        {
          "output_type": "stream",
          "name": "stdout",
          "text": [
            "[[47  2]\n",
            " [ 3 48]]\n"
          ]
        }
      ]
    },
    {
      "cell_type": "code",
      "source": [
        "print(classification_report(y,model.predict(X)))"
      ],
      "metadata": {
        "colab": {
          "base_uri": "https://localhost:8080/"
        },
        "id": "L-EhhB7SfY-J",
        "outputId": "5ff7696a-0236-472c-af05-111adf8b39a8"
      },
      "execution_count": 31,
      "outputs": [
        {
          "output_type": "stream",
          "name": "stdout",
          "text": [
            "              precision    recall  f1-score   support\n",
            "\n",
            "           0       0.94      0.96      0.95        49\n",
            "           1       0.96      0.94      0.95        51\n",
            "\n",
            "    accuracy                           0.95       100\n",
            "   macro avg       0.95      0.95      0.95       100\n",
            "weighted avg       0.95      0.95      0.95       100\n",
            "\n"
          ]
        }
      ]
    },
    {
      "cell_type": "code",
      "source": [
        "model.decision_function(X)"
      ],
      "metadata": {
        "colab": {
          "base_uri": "https://localhost:8080/"
        },
        "id": "KOTSmw78ftuH",
        "outputId": "e16e10fe-38d7-4ab8-d436-6fd2afeac06f"
      },
      "execution_count": 32,
      "outputs": [
        {
          "output_type": "execute_result",
          "data": {
            "text/plain": [
              "array([-1.50873098,  5.38863206, -3.74555942,  5.20397562, -0.44095236,\n",
              "       -2.68832614,  0.39588876, -2.24177989,  3.09285594, -0.96039456,\n",
              "       -1.72591438,  3.30217847, -2.90277186, -5.15623439,  2.06657756,\n",
              "       -3.75085818,  3.14673688,  3.11450701,  4.38988471,  3.63334932,\n",
              "       -4.5121414 , -0.22205161,  3.38902893, -3.40013681,  1.92519307,\n",
              "        4.3751403 ,  5.02012274,  1.19469882,  2.12923217,  0.57749536,\n",
              "        3.44599095, -0.1130571 ,  3.98154721, -6.32091195, -3.22646947,\n",
              "       -2.69415488, -4.49254026, -2.27000333, -2.70081945,  4.51903626,\n",
              "        1.484836  ,  2.7385926 , -2.17658465, -1.57095449, -4.81953539,\n",
              "       -2.69800271,  1.99345325, -4.25040829, -1.0335926 , -1.51069995,\n",
              "        3.33794971,  2.39186633,  3.5446986 , -4.26985824,  4.62803209,\n",
              "       -3.18617518, -1.86899397,  3.76646401,  2.73219391, -2.27000801,\n",
              "       -4.43499946,  0.37348483,  3.09562222,  3.53905422,  3.35372556,\n",
              "       -1.56256047,  1.15740625, -2.52953145,  6.48611003,  3.06409351,\n",
              "       -2.96709325, -4.59063802,  6.43089825, -1.39278275,  4.66227854,\n",
              "       -4.79920005, -3.68409625,  2.93828856,  3.92528403,  2.44028126,\n",
              "        0.54517441, -1.68112927, -3.06653269, -4.44588305,  1.70125895,\n",
              "       -2.784381  , -2.01749495,  2.18453875,  3.51125102,  3.90227692,\n",
              "        1.78064685,  1.41833588, -4.49807843,  7.26192825,  1.38859959,\n",
              "       -2.13024249, -2.00248515, -1.95350142, -1.83873704, -0.30729131])"
            ]
          },
          "metadata": {},
          "execution_count": 32
        }
      ]
    },
    {
      "cell_type": "code",
      "source": [
        "from sklearn.metrics import roc_curve\n",
        "fpr,tpr,thresholds=roc_curve(y,model.decision_function(X))"
      ],
      "metadata": {
        "id": "kFfXJw3Zf2Pw"
      },
      "execution_count": 33,
      "outputs": []
    },
    {
      "cell_type": "code",
      "source": [
        "%matplotlib inline\n",
        "from matplotlib import pyplot as plt"
      ],
      "metadata": {
        "id": "qJoyJDQNgO5z"
      },
      "execution_count": 34,
      "outputs": []
    },
    {
      "cell_type": "code",
      "source": [
        "plt.plot(fpr,tpr)\n",
        "plt.plot([0,1],[0,1],'k--',label=\"random guess\")\n",
        "plt.xlabel('False Positive Rate (Fall-Out)')\n",
        "plt.ylabel('True Positive Rate (Recall)')\n",
        "plt.title('Receiver operating characteristic example')\n",
        "plt.show()"
      ],
      "metadata": {
        "colab": {
          "base_uri": "https://localhost:8080/",
          "height": 295
        },
        "id": "fyR9lN8OgSjC",
        "outputId": "0b502a66-98c6-4465-9939-c5572c753fcd"
      },
      "execution_count": 37,
      "outputs": [
        {
          "output_type": "display_data",
          "data": {
            "image/png": "[encoded data removed]",
            "text/plain": [
              "<Figure size 432x288 with 1 Axes>"
            ]
          },
          "metadata": {
            "needs_background": "light"
          }
        }
      ]
    },
    {
      "cell_type": "markdown",
      "source": [
        "## **Multi-Class 예제**"
      ],
      "metadata": {
        "id": "hVSI4vjIhkWM"
      }
    },
    {
      "cell_type": "code",
      "source": [
        "from sklearn.datasets import load_iris\n",
        "from sklearn.linear_model import LogisticRegression\n",
        "iris=load_iris()\n",
        "model=LogisticRegression().fit(iris.data,iris.target)"
      ],
      "metadata": {
        "colab": {
          "base_uri": "https://localhost:8080/"
        },
        "id": "N39cmZWRhCih",
        "outputId": "94f9a9fa-12e6-4193-a49e-ee72b79b261e"
      },
      "execution_count": 38,
      "outputs": [
        {
          "output_type": "stream",
          "name": "stderr",
          "text": [
            "/usr/local/lib/python3.7/dist-packages/sklearn/linear_model/_logistic.py:818: ConvergenceWarning: lbfgs failed to converge (status=1):\n",
            "STOP: TOTAL NO. of ITERATIONS REACHED LIMIT.\n",
            "\n",
            "Increase the number of iterations (max_iter) or scale the data as shown in:\n",
            "    https://scikit-learn.org/stable/modules/preprocessing.html\n",
            "Please also refer to the documentation for alternative solver options:\n",
            "    https://scikit-learn.org/stable/modules/linear_model.html#logistic-regression\n",
            "  extra_warning_msg=_LOGISTIC_SOLVER_CONVERGENCE_MSG,\n"
          ]
        }
      ]
    },
    {
      "cell_type": "code",
      "source": [
        "iris.target"
      ],
      "metadata": {
        "colab": {
          "base_uri": "https://localhost:8080/"
        },
        "id": "DkBQVsQWh7FY",
        "outputId": "98aaa602-ea9e-4a62-bedb-3d8b3838d273"
      },
      "execution_count": 39,
      "outputs": [
        {
          "output_type": "execute_result",
          "data": {
            "text/plain": [
              "array([0, 0, 0, 0, 0, 0, 0, 0, 0, 0, 0, 0, 0, 0, 0, 0, 0, 0, 0, 0, 0, 0,\n",
              "       0, 0, 0, 0, 0, 0, 0, 0, 0, 0, 0, 0, 0, 0, 0, 0, 0, 0, 0, 0, 0, 0,\n",
              "       0, 0, 0, 0, 0, 0, 1, 1, 1, 1, 1, 1, 1, 1, 1, 1, 1, 1, 1, 1, 1, 1,\n",
              "       1, 1, 1, 1, 1, 1, 1, 1, 1, 1, 1, 1, 1, 1, 1, 1, 1, 1, 1, 1, 1, 1,\n",
              "       1, 1, 1, 1, 1, 1, 1, 1, 1, 1, 1, 1, 2, 2, 2, 2, 2, 2, 2, 2, 2, 2,\n",
              "       2, 2, 2, 2, 2, 2, 2, 2, 2, 2, 2, 2, 2, 2, 2, 2, 2, 2, 2, 2, 2, 2,\n",
              "       2, 2, 2, 2, 2, 2, 2, 2, 2, 2, 2, 2, 2, 2, 2, 2, 2, 2])"
            ]
          },
          "metadata": {},
          "execution_count": 39
        }
      ]
    },
    {
      "cell_type": "code",
      "source": [
        "from sklearn.metrics import roc_curve\n",
        "fpr0,tpr0,thresholds0=roc_curve(iris.target,model.decision_function(iris.data)[:,0],pos_label=0)\n",
        "fpr1,tpr1,thresholds1=roc_curve(iris.target,model.decision_function(iris.data)[:,1],pos_label=1)\n",
        "fpr2,tpr2,thresholds2=roc_curve(iris.target,model.decision_function(iris.data)[:,2],pos_label=2)"
      ],
      "metadata": {
        "id": "n1gxmqSSh8ZR"
      },
      "execution_count": 40,
      "outputs": []
    },
    {
      "cell_type": "code",
      "source": [
        "fpr0,tpr0,thresholds0"
      ],
      "metadata": {
        "colab": {
          "base_uri": "https://localhost:8080/"
        },
        "id": "xgU7POXQihWF",
        "outputId": "c8fa8337-d14f-4d0a-864d-360e2f42bcaf"
      },
      "execution_count": 41,
      "outputs": [
        {
          "output_type": "execute_result",
          "data": {
            "text/plain": [
              "(array([0.  , 0.  , 0.  , 0.6 , 0.62, 1.  ]),\n",
              " array([0.  , 0.02, 1.  , 1.  , 1.  , 1.  ]),\n",
              " array([  9.65743478,   8.65743478,   6.06798187,  -4.8126766 ,\n",
              "         -4.89462443, -10.75848535]))"
            ]
          },
          "metadata": {},
          "execution_count": 41
        }
      ]
    },
    {
      "cell_type": "code",
      "source": [
        "plt.plot(fpr0,tpr0,\"r-\",label=\"class 0\")\n",
        "plt.plot(fpr1,tpr1,\"g-\",label=\"class 1\")\n",
        "plt.plot(fpr2,tpr2,\"b-\",label=\"class 2\")\n",
        "plt.plot([0,1],[0,1],'k--',label=\"random guess\")\n",
        "plt.xlim(-0.05,1.0)\n",
        "plt.ylim(0,1.05)\n",
        "plt.xlabel('False Positive Rate (Fall-Out)')\n",
        "plt.ylabel('True Positive Rate (Recall)')\n",
        "plt.title('Receiver operating characteristic example')\n",
        "plt.legend(loc=\"lower right\")\n",
        "plt.show()"
      ],
      "metadata": {
        "colab": {
          "base_uri": "https://localhost:8080/",
          "height": 295
        },
        "id": "SqsFpYztij4s",
        "outputId": "060d9911-760c-4ed3-b6ec-3cfd853dc81b"
      },
      "execution_count": 43,
      "outputs": [
        {
          "output_type": "display_data",
          "data": {
            "image/png": "[encoded data removed]",
            "text/plain": [
              "<Figure size 432x288 with 1 Axes>"
            ]
          },
          "metadata": {
            "needs_background": "light"
          }
        }
      ]
    },
    {
      "cell_type": "code",
      "source": [
        "print(confusion_matrix(iris.target,model.predict(iris.data)))"
      ],
      "metadata": {
        "colab": {
          "base_uri": "https://localhost:8080/"
        },
        "id": "6QIEL8TDjZ6-",
        "outputId": "446e5328-04d0-413d-8b85-14ad899a3801"
      },
      "execution_count": 45,
      "outputs": [
        {
          "output_type": "stream",
          "name": "stdout",
          "text": [
            "[[50  0  0]\n",
            " [ 0 47  3]\n",
            " [ 0  1 49]]\n"
          ]
        }
      ]
    },
    {
      "cell_type": "code",
      "source": [
        "print(classification_report(iris.target,model.predict(iris.data)))"
      ],
      "metadata": {
        "colab": {
          "base_uri": "https://localhost:8080/"
        },
        "id": "WnReM2FJjhcH",
        "outputId": "fa7b27cd-f1ca-4be0-86e4-f2d2c8a79096"
      },
      "execution_count": 46,
      "outputs": [
        {
          "output_type": "stream",
          "name": "stdout",
          "text": [
            "              precision    recall  f1-score   support\n",
            "\n",
            "           0       1.00      1.00      1.00        50\n",
            "           1       0.98      0.94      0.96        50\n",
            "           2       0.94      0.98      0.96        50\n",
            "\n",
            "    accuracy                           0.97       150\n",
            "   macro avg       0.97      0.97      0.97       150\n",
            "weighted avg       0.97      0.97      0.97       150\n",
            "\n"
          ]
        }
      ]
    },
    {
      "cell_type": "code",
      "source": [
        "iris.target"
      ],
      "metadata": {
        "colab": {
          "base_uri": "https://localhost:8080/"
        },
        "id": "9Ib698uCjouR",
        "outputId": "2359d05e-3ca9-40a5-dffe-889ccdd4a3ea"
      },
      "execution_count": 47,
      "outputs": [
        {
          "output_type": "execute_result",
          "data": {
            "text/plain": [
              "array([0, 0, 0, 0, 0, 0, 0, 0, 0, 0, 0, 0, 0, 0, 0, 0, 0, 0, 0, 0, 0, 0,\n",
              "       0, 0, 0, 0, 0, 0, 0, 0, 0, 0, 0, 0, 0, 0, 0, 0, 0, 0, 0, 0, 0, 0,\n",
              "       0, 0, 0, 0, 0, 0, 1, 1, 1, 1, 1, 1, 1, 1, 1, 1, 1, 1, 1, 1, 1, 1,\n",
              "       1, 1, 1, 1, 1, 1, 1, 1, 1, 1, 1, 1, 1, 1, 1, 1, 1, 1, 1, 1, 1, 1,\n",
              "       1, 1, 1, 1, 1, 1, 1, 1, 1, 1, 1, 1, 2, 2, 2, 2, 2, 2, 2, 2, 2, 2,\n",
              "       2, 2, 2, 2, 2, 2, 2, 2, 2, 2, 2, 2, 2, 2, 2, 2, 2, 2, 2, 2, 2, 2,\n",
              "       2, 2, 2, 2, 2, 2, 2, 2, 2, 2, 2, 2, 2, 2, 2, 2, 2, 2])"
            ]
          },
          "metadata": {},
          "execution_count": 47
        }
      ]
    },
    {
      "cell_type": "code",
      "source": [
        "from sklearn.preprocessing import label_binarize\n",
        "yb0=label_binarize(iris.target,classes=[0,1,2])\n",
        "yb1=label_binarize(model.predict(iris.data),classes=[0,1,2])"
      ],
      "metadata": {
        "id": "GBAGHl-PjqKn"
      },
      "execution_count": 49,
      "outputs": []
    },
    {
      "cell_type": "code",
      "source": [
        "print(yb0[:, 0].sum(), yb1[:, 0].sum())\n",
        "plt.plot(yb0[:, 0], 'ro-', markersize=10, alpha=0.4, label=\"actual class 0\")\n",
        "plt.plot(yb1[:, 0], 'bs-', markersize=10, alpha=0.4, label=\"predicted class 0\")\n",
        "plt.legend()\n",
        "plt.xlim(0, len(iris.target)-1);\n",
        "plt.ylim(-0.1, 1.1);"
      ],
      "metadata": {
        "colab": {
          "base_uri": "https://localhost:8080/",
          "height": 283
        },
        "id": "BKEOaEc-j2nq",
        "outputId": "ba1dc715-e351-4d64-9ce4-21c9ae7de389"
      },
      "execution_count": 50,
      "outputs": [
        {
          "output_type": "stream",
          "name": "stdout",
          "text": [
            "50 50\n"
          ]
        },
        {
          "output_type": "display_data",
          "data": {
            "image/png": "[encoded data removed]",
            "text/plain": [
              "<Figure size 432x288 with 1 Axes>"
            ]
          },
          "metadata": {
            "needs_background": "light"
          }
        }
      ]
    },
    {
      "cell_type": "code",
      "source": [
        "print(yb0[:, 1].sum(), yb1[:, 1].sum())\n",
        "plt.plot(yb0[:, 1], 'ro-', markersize=10, alpha=0.6, label=\"actual class 1\")\n",
        "plt.plot(yb1[:, 1], 'bs-', markersize=10, alpha=0.6, label=\"predicted class 1\")\n",
        "plt.legend()\n",
        "plt.xlim(45, 145);\n",
        "plt.ylim(-0.1, 1.1);"
      ],
      "metadata": {
        "colab": {
          "base_uri": "https://localhost:8080/",
          "height": 283
        },
        "id": "F_muGCuFj9AK",
        "outputId": "959a3544-ab85-46a6-f4f6-465f168fa322"
      },
      "execution_count": 51,
      "outputs": [
        {
          "output_type": "stream",
          "name": "stdout",
          "text": [
            "50 48\n"
          ]
        },
        {
          "output_type": "display_data",
          "data": {
            "image/png": "[encoded data removed]",
            "text/plain": [
              "<Figure size 432x288 with 1 Axes>"
            ]
          },
          "metadata": {
            "needs_background": "light"
          }
        }
      ]
    },
    {
      "cell_type": "markdown",
      "source": [
        "## **AUC(Area Under the Curve)**\n",
        "AUC는 ROC curve의 면적을 뜻한다. Fall-Out 대비 Recall 값이 클 수록 AUC가 1에 가까운 값이며 우수한 모형이다"
      ],
      "metadata": {
        "id": "TPR4K7CpkATd"
      }
    },
    {
      "cell_type": "code",
      "source": [
        "from sklearn.metrics import auc\n",
        "auc(fpr0,tpr0),auc(fpr1,tpr1),auc(fpr2,tpr2)"
      ],
      "metadata": {
        "colab": {
          "base_uri": "https://localhost:8080/"
        },
        "id": "7_0ZapwSj_Ox",
        "outputId": "3b73ee56-9718-4835-db9c-062295bc8060"
      },
      "execution_count": 52,
      "outputs": [
        {
          "output_type": "execute_result",
          "data": {
            "text/plain": [
              "(1.0, 0.46799999999999997, 0.9972)"
            ]
          },
          "metadata": {},
          "execution_count": 52
        }
      ]
    },
    {
      "cell_type": "code",
      "source": [
        ""
      ],
      "metadata": {
        "id": "kIwuRNA0kU1D"
      },
      "execution_count": null,
      "outputs": []
    }
  ]
}